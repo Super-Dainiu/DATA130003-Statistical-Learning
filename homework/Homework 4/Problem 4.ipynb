{
 "cells": [
  {
   "cell_type": "markdown",
   "id": "7e2d1b21-fd5a-453b-b75f-40f0482f6130",
   "metadata": {},
   "source": [
    "# 客户流失预警分析"
   ]
  },
  {
   "cell_type": "code",
   "execution_count": 13,
   "id": "a5b76325-10b4-424c-a554-eb8403ef1ca3",
   "metadata": {},
   "outputs": [],
   "source": [
    "library(tidyverse)\n",
    "library(gridExtra)\n",
    "library(pROC)"
   ]
  },
  {
   "cell_type": "markdown",
   "id": "7b27c54a-197f-47a3-b8ed-df881f0dfbae",
   "metadata": {},
   "source": [
    "## 1. 读入训练数据"
   ]
  },
  {
   "cell_type": "code",
   "execution_count": 3,
   "id": "444daba3-8ba0-4eb2-8df3-df9aff860af7",
   "metadata": {},
   "outputs": [],
   "source": [
    "train.raw<-read.csv(\"data/sampledata.csv\")"
   ]
  },
  {
   "cell_type": "markdown",
   "id": "9fe91bd5-8f34-4e51-b9e8-6e5413edd9d4",
   "metadata": {},
   "source": [
    "## 2. 绘制变量的箱线图"
   ]
  },
  {
   "cell_type": "code",
   "execution_count": 4,
   "id": "c3531043-e3fa-4e91-9c4e-8b214627be89",
   "metadata": {},
   "outputs": [
    {
     "data": {
      "image/png": "[encoded data removed]",
      "text/plain": [
       "plot without title"
      ]
     },
     "metadata": {},
     "output_type": "display_data"
    }
   ],
   "source": [
    "par(mfrow=c(4,2))\n",
    "plot1<-ggplot(train.raw)+geom_boxplot(aes(group=churn,y=log(tenure)),fill='pink',col='white',outlier.color='black',varwidth=T)\n",
    "plot2<-ggplot(train.raw)+geom_boxplot(aes(group=churn,y=log(expense)),fill=2,col='white',outlier.color='black',varwidth=T)\n",
    "plot3<-ggplot(train.raw)+geom_boxplot(aes(group=churn,y=log(degree)),fill=3,col='white',outlier.color='black',varwidth=T)\n",
    "plot4<-ggplot(train.raw)+geom_boxplot(aes(group=churn,y=log(tightness)),fill=4,col='white',outlier.color='black',varwidth=T)\n",
    "plot5<-ggplot(train.raw)+geom_boxplot(aes(group=churn,y=entropy),fill=5,col='white',outlier.color='black',varwidth=T)\n",
    "plot6<-ggplot(train.raw)+geom_boxplot(aes(group=churn,y=chgexpense),fill=6,col='white',outlier.color='black',varwidth=T)\n",
    "plot7<-ggplot(train.raw)+geom_boxplot(aes(group=churn,y=chgdegree),fill=7,col='white',outlier.color='black',varwidth=T)\n",
    "grid.arrange(plot1,plot2,plot3,plot4,plot5,plot6,plot7,ncol=3)"
   ]
  },
  {
   "cell_type": "markdown",
   "id": "f8dbee58-2bb8-4244-8aa0-a162fc9ac644",
   "metadata": {},
   "source": [
    "## 3. 建立逻辑回归模型"
   ]
  },
  {
   "cell_type": "code",
   "execution_count": 5,
   "id": "cbf0569d-b089-43d8-a0d9-8f8a8d30a358",
   "metadata": {},
   "outputs": [],
   "source": [
    "train.scaled<-data.frame(scale(subset(train.raw,select=-c(ID,churn))),churn=train.raw$churn)\n",
    "model<-glm(data=train.scaled,churn~tenure+expense+degree+tightness+entropy+chgexpense+chgdegree,family=binomial(link='logit'))"
   ]
  },
  {
   "cell_type": "code",
   "execution_count": 6,
   "id": "399b427c-9788-4fb4-b025-deb6c7d28d97",
   "metadata": {},
   "outputs": [
    {
     "data": {
      "text/plain": [
       "\n",
       "Call:\n",
       "glm(formula = churn ~ tenure + expense + degree + tightness + \n",
       "    entropy + chgexpense + chgdegree, family = binomial(link = \"logit\"), \n",
       "    data = train.scaled)\n",
       "\n",
       "Deviance Residuals: \n",
       "    Min       1Q   Median       3Q      Max  \n",
       "-0.8909  -0.1748  -0.1198  -0.0748   4.2072  \n",
       "\n",
       "Coefficients:\n",
       "            Estimate Std. Error z value Pr(>|z|)    \n",
       "(Intercept) -5.05338    0.07212 -70.067  < 2e-16 ***\n",
       "tenure      -0.24767    0.06070  -4.080 4.50e-05 ***\n",
       "expense     -0.29229    0.05904  -4.951 7.39e-07 ***\n",
       "degree      -0.73751    0.13172  -5.599 2.15e-08 ***\n",
       "tightness   -0.22660    0.04254  -5.327 9.99e-08 ***\n",
       "entropy     -0.35176    0.07208  -4.880 1.06e-06 ***\n",
       "chgexpense  -0.16071    0.04893  -3.284  0.00102 ** \n",
       "chgdegree   -0.38279    0.05208  -7.349 1.99e-13 ***\n",
       "---\n",
       "Signif. codes:  0 '***' 0.001 '**' 0.01 '*' 0.05 '.' 0.1 ' ' 1\n",
       "\n",
       "(Dispersion parameter for binomial family taken to be 1)\n",
       "\n",
       "    Null deviance: 6475.5  on 48284  degrees of freedom\n",
       "Residual deviance: 5757.6  on 48277  degrees of freedom\n",
       "AIC: 5773.6\n",
       "\n",
       "Number of Fisher Scoring iterations: 8\n"
      ]
     },
     "metadata": {},
     "output_type": "display_data"
    }
   ],
   "source": [
    "summary(model)"
   ]
  },
  {
   "cell_type": "markdown",
   "id": "3b76964f-163c-4117-9877-aac033bba036",
   "metadata": {},
   "source": [
    "从回归系数进行分析，我们发现用户的流失与所有自变量都有较强的关系，在网时长越长、当月话费越高、个体通话数量越多、联系强度越大、个体信息熵越大、个体度的上升以及个体花费的上升都意味着这个用户不容易流失。"
   ]
  },
  {
   "cell_type": "markdown",
   "id": "b520291e-ab4b-4cfd-94b1-3d20f6783d31",
   "metadata": {},
   "source": [
    "## 4. 模型预测"
   ]
  },
  {
   "cell_type": "markdown",
   "id": "42195f99-9454-4d78-b43d-4adc4ffaabae",
   "metadata": {},
   "source": [
    "#### 训练集"
   ]
  },
  {
   "cell_type": "code",
   "execution_count": 7,
   "id": "9eacd7d7-cdb8-410b-be2e-1d7ba216cb95",
   "metadata": {},
   "outputs": [
    {
     "data": {
      "text/html": [
       "<dl class=dl-horizontal>\n",
       "\t<dt>1</dt>\n",
       "\t\t<dd>0.00499971884779787</dd>\n",
       "\t<dt>2</dt>\n",
       "\t\t<dd>0.0107960147306823</dd>\n",
       "\t<dt>3</dt>\n",
       "\t\t<dd>0.00346783658993296</dd>\n",
       "\t<dt>4</dt>\n",
       "\t\t<dd>0.00802364771561232</dd>\n",
       "\t<dt>5</dt>\n",
       "\t\t<dd>0.00297728919098756</dd>\n",
       "\t<dt>6</dt>\n",
       "\t\t<dd>0.001469916339404</dd>\n",
       "</dl>\n"
      ],
      "text/latex": [
       "\\begin{description*}\n",
       "\\item[1] 0.00499971884779787\n",
       "\\item[2] 0.0107960147306823\n",
       "\\item[3] 0.00346783658993296\n",
       "\\item[4] 0.00802364771561232\n",
       "\\item[5] 0.00297728919098756\n",
       "\\item[6] 0.001469916339404\n",
       "\\end{description*}\n"
      ],
      "text/markdown": [
       "1\n",
       ":   0.004999718847797872\n",
       ":   0.01079601473068233\n",
       ":   0.003467836589932964\n",
       ":   0.008023647715612325\n",
       ":   0.002977289190987566\n",
       ":   0.001469916339404\n",
       "\n"
      ],
      "text/plain": [
       "          1           2           3           4           5           6 \n",
       "0.004999719 0.010796015 0.003467837 0.008023648 0.002977289 0.001469916 "
      ]
     },
     "metadata": {},
     "output_type": "display_data"
    }
   ],
   "source": [
    "train.pred<-predict(model,train.scaled,type='response')\n",
    "head(train.pred)"
   ]
  },
  {
   "cell_type": "markdown",
   "id": "36c90327-28c0-4ecc-93f4-bccd1b6acec0",
   "metadata": {},
   "source": [
    "#### 测试集"
   ]
  },
  {
   "cell_type": "code",
   "execution_count": 10,
   "id": "8eb2b29a-bef2-4bc1-ab46-0dc5a52c8c85",
   "metadata": {},
   "outputs": [
    {
     "data": {
      "text/html": [
       "<dl class=dl-horizontal>\n",
       "\t<dt>1</dt>\n",
       "\t\t<dd>0.0332009167167091</dd>\n",
       "\t<dt>2</dt>\n",
       "\t\t<dd>0.0062862747210901</dd>\n",
       "\t<dt>3</dt>\n",
       "\t\t<dd>0.00856272826978935</dd>\n",
       "\t<dt>4</dt>\n",
       "\t\t<dd>0.000669561709642811</dd>\n",
       "\t<dt>5</dt>\n",
       "\t\t<dd>0.00736707281565195</dd>\n",
       "\t<dt>6</dt>\n",
       "\t\t<dd>0.00371287594536097</dd>\n",
       "</dl>\n"
      ],
      "text/latex": [
       "\\begin{description*}\n",
       "\\item[1] 0.0332009167167091\n",
       "\\item[2] 0.0062862747210901\n",
       "\\item[3] 0.00856272826978935\n",
       "\\item[4] 0.000669561709642811\n",
       "\\item[5] 0.00736707281565195\n",
       "\\item[6] 0.00371287594536097\n",
       "\\end{description*}\n"
      ],
      "text/markdown": [
       "1\n",
       ":   0.03320091671670912\n",
       ":   0.00628627472109013\n",
       ":   0.008562728269789354\n",
       ":   0.0006695617096428115\n",
       ":   0.007367072815651956\n",
       ":   0.00371287594536097\n",
       "\n"
      ],
      "text/plain": [
       "           1            2            3            4            5            6 \n",
       "0.0332009167 0.0062862747 0.0085627283 0.0006695617 0.0073670728 0.0037128759 "
      ]
     },
     "metadata": {},
     "output_type": "display_data"
    }
   ],
   "source": [
    "test.raw<-read.csv('data/preddata.csv')\n",
    "test.scaled<-data.frame(scale(subset(test.raw,select=-c(ID,churn))),churn=test.raw$churn)\n",
    "test.pred<-predict(model,newdata=test.scaled,type='response')\n",
    "head(test.pred)"
   ]
  },
  {
   "cell_type": "markdown",
   "id": "4a06fae3-c0ac-4e1d-9ba9-69fef928a765",
   "metadata": {},
   "source": [
    "## 5. ROC曲线"
   ]
  },
  {
   "cell_type": "code",
   "execution_count": 12,
   "id": "4099e137-fcf8-4c4e-a621-8f763837404e",
   "metadata": {},
   "outputs": [
    {
     "name": "stderr",
     "output_type": "stream",
     "text": [
      "Setting levels: control = 0, case = 1\n",
      "Setting direction: controls < cases\n",
      "Setting levels: control = 0, case = 1\n",
      "Setting direction: controls < cases\n"
     ]
    },
    {
     "data": {
      "image/png": "[encoded data removed]",
      "text/plain": [
       "Plot with title \"train\""
      ]
     },
     "metadata": {},
     "output_type": "display_data"
    },
    {
     "data": {
      "image/png": "[encoded data removed]",
      "text/plain": [
       "Plot with title \"test\""
      ]
     },
     "metadata": {},
     "output_type": "display_data"
    }
   ],
   "source": [
    "# par(mfrow=c(2,2))\n",
    "plot.roc(train.raw$churn,train.pred,xlab = \"FPR\", ylab = \"TPR\",print.auc=TRUE,main='train')\n",
    "plot.roc(test.raw$churn,test.pred,xlab = \"FPR\", ylab = \"TPR\",print.auc=TRUE,main='test')"
   ]
  },
  {
   "cell_type": "markdown",
   "id": "26f66185-2b8d-4f70-9734-ceae30d86c1c",
   "metadata": {},
   "source": [
    "我们可以看到，$\\mathrm{AUC}_{Test}=0.782$。也就是说，给出一个正例和反例，78.2%的情况下有$f(x^+)>f(x^-)$"
   ]
  }
 ],
 "metadata": {
  "kernelspec": {
   "display_name": "R",
   "language": "R",
   "name": "ir"
  },
  "language_info": {
   "codemirror_mode": "r",
   "file_extension": ".r",
   "mimetype": "text/x-r-source",
   "name": "R",
   "pygments_lexer": "r",
   "version": "3.6.1"
  }
 },
 "nbformat": 4,
 "nbformat_minor": 5
}
