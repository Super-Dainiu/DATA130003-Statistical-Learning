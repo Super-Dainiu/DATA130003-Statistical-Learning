{
 "cells": [
  {
   "cell_type": "code",
   "execution_count": 1,
   "id": "a6fcdd5e-4333-4fcc-96c5-0a7e0f19d17d",
   "metadata": {},
   "outputs": [],
   "source": [
    "prob<-function(x,b){\n",
    "    return(exp(x%*%b)/(1+exp(x%*%b)))\n",
    "}\n",
    "l<-function(x,y,b){\n",
    "    return(t(y)%*%x%*%b-sum(log(1+exp(x%*%b))))\n",
    "}"
   ]
  },
  {
   "cell_type": "code",
   "execution_count": 2,
   "id": "0771aab3-06ea-49bb-9da2-6ec349cf7996",
   "metadata": {},
   "outputs": [],
   "source": [
    "NR<-function(N){\n",
    "    train.X<-matrix(c(rep(1,N),rnorm(2*N)),nrow=N)\n",
    "    b<-c(0.5,1.2,-1)\n",
    "    train.Y<-prob(train.X,b)>runif(N)\n",
    "    train.b<-rep(0,3)\n",
    "    hist<-train.b\n",
    "    for (i in 1:200){\n",
    "        g<-t(train.X)%*%(train.Y-prob(train.X,train.b))\n",
    "        W<-diag(as.vector(prob(train.X,train.b)*(1-prob(train.X,train.b))))\n",
    "        h<--t(train.X)%*%W%*%train.X\n",
    "        k<-1\n",
    "        while ((l(train.X,train.Y,train.b-k*solve(h)%*%(g))-l(train.X,train.Y,train.b))<k*sum((solve(h)%*%(g))^2)&(k>1e-3)) k<-k/2\n",
    "        if (max(abs(k*solve(h)%*%(g))<1e-5)) break\n",
    "        train.b<-train.b-k*solve(h)%*%(g)\n",
    "        hist<-cbind(hist,train.b)\n",
    "    }\n",
    "    return(hist)\n",
    "}"
   ]
  },
  {
   "cell_type": "code",
   "execution_count": 3,
   "id": "2864867b-deb2-4b67-91c1-72598ff83a34",
   "metadata": {},
   "outputs": [
    {
     "data": {
      "image/png": "[encoded data removed]",
      "text/plain": [
       "Plot with title \"N=1000\""
      ]
     },
     "metadata": {},
     "output_type": "display_data"
    }
   ],
   "source": [
    "b<-c(0.5,1.2,-1)\n",
    "par(mfrow=c(2,2))\n",
    "for (i in c(200,500,800,1000)){\n",
    "    boxplot(t(NR(i)-b),names=c('b0','b1','b2'),col=i/300)\n",
    "    title(paste0('N=',as.character(i)))\n",
    "}"
   ]
  }
 ],
 "metadata": {
  "kernelspec": {
   "display_name": "R",
   "language": "R",
   "name": "ir"
  },
  "language_info": {
   "codemirror_mode": "r",
   "file_extension": ".r",
   "mimetype": "text/x-r-source",
   "name": "R",
   "pygments_lexer": "r",
   "version": "3.6.1"
  }
 },
 "nbformat": 4,
 "nbformat_minor": 5
}
