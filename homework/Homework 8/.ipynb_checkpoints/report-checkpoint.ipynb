{
 "cells": [
  {
   "cell_type": "code",
   "execution_count": 1,
   "id": "aa281f66-db40-45d5-87df-49b73b8cd7b5",
   "metadata": {},
   "outputs": [],
   "source": [
    "import pandas as pd\n",
    "from sklearn import cluster\n",
    "from sklearn import decomposition\n",
    "from sklearn import preprocessing\n",
    "import numpy as np\n",
    "import matplotlib.pyplot as plt"
   ]
  },
  {
   "cell_type": "markdown",
   "id": "ab94df70-b1ae-4779-896b-a99c14f22435",
   "metadata": {},
   "source": [
    "### 1. 读入数据"
   ]
  },
  {
   "cell_type": "code",
   "execution_count": 2,
   "id": "8c2185c3-2bc8-476e-a0fb-243ad0608bf1",
   "metadata": {},
   "outputs": [
    {
     "data": {
      "text/html": [
       "<div>\n",
       "<style scoped>\n",
       "    .dataframe tbody tr th:only-of-type {\n",
       "        vertical-align: middle;\n",
       "    }\n",
       "\n",
       "    .dataframe tbody tr th {\n",
       "        vertical-align: top;\n",
       "    }\n",
       "\n",
       "    .dataframe thead th {\n",
       "        text-align: right;\n",
       "    }\n",
       "</style>\n",
       "<table border=\"1\" class=\"dataframe\">\n",
       "  <thead>\n",
       "    <tr style=\"text-align: right;\">\n",
       "      <th></th>\n",
       "      <th>球员</th>\n",
       "      <th>出场数</th>\n",
       "      <th>上场总时间（min）</th>\n",
       "      <th>投篮率</th>\n",
       "      <th>命中次数</th>\n",
       "      <th>出手次数</th>\n",
       "      <th>三分投球率</th>\n",
       "      <th>三分命中次数</th>\n",
       "      <th>三分出手次数</th>\n",
       "      <th>罚球率</th>\n",
       "      <th>罚球命中次数</th>\n",
       "      <th>罚球出手次数</th>\n",
       "      <th>篮板数</th>\n",
       "      <th>助攻次数</th>\n",
       "      <th>抢断次数</th>\n",
       "      <th>盖帽次数</th>\n",
       "      <th>失误次数</th>\n",
       "      <th>犯规次数</th>\n",
       "      <th>生涯总得分</th>\n",
       "    </tr>\n",
       "  </thead>\n",
       "  <tbody>\n",
       "    <tr>\n",
       "      <th>0</th>\n",
       "      <td>勒布朗-詹姆斯</td>\n",
       "      <td>239</td>\n",
       "      <td>10059</td>\n",
       "      <td>49.10%</td>\n",
       "      <td>2457</td>\n",
       "      <td>5006</td>\n",
       "      <td>33.20%</td>\n",
       "      <td>370</td>\n",
       "      <td>1116</td>\n",
       "      <td>74.30%</td>\n",
       "      <td>1627</td>\n",
       "      <td>2191</td>\n",
       "      <td>2122</td>\n",
       "      <td>1687</td>\n",
       "      <td>419</td>\n",
       "      <td>232</td>\n",
       "      <td>866</td>\n",
       "      <td>569</td>\n",
       "      <td>6911</td>\n",
       "    </tr>\n",
       "    <tr>\n",
       "      <th>1</th>\n",
       "      <td>迈克尔-乔丹</td>\n",
       "      <td>179</td>\n",
       "      <td>7474</td>\n",
       "      <td>48.70%</td>\n",
       "      <td>2188</td>\n",
       "      <td>4497</td>\n",
       "      <td>33.20%</td>\n",
       "      <td>148</td>\n",
       "      <td>446</td>\n",
       "      <td>82.80%</td>\n",
       "      <td>1463</td>\n",
       "      <td>1766</td>\n",
       "      <td>1152</td>\n",
       "      <td>1022</td>\n",
       "      <td>376</td>\n",
       "      <td>158</td>\n",
       "      <td>546</td>\n",
       "      <td>541</td>\n",
       "      <td>5987</td>\n",
       "    </tr>\n",
       "    <tr>\n",
       "      <th>2</th>\n",
       "      <td>卡里姆-贾巴尔</td>\n",
       "      <td>237</td>\n",
       "      <td>8851</td>\n",
       "      <td>53.30%</td>\n",
       "      <td>2356</td>\n",
       "      <td>4422</td>\n",
       "      <td>0.00%</td>\n",
       "      <td>0</td>\n",
       "      <td>0</td>\n",
       "      <td>74.00%</td>\n",
       "      <td>1050</td>\n",
       "      <td>1419</td>\n",
       "      <td>2481</td>\n",
       "      <td>767</td>\n",
       "      <td>0</td>\n",
       "      <td>0</td>\n",
       "      <td>0</td>\n",
       "      <td>797</td>\n",
       "      <td>5762</td>\n",
       "    </tr>\n",
       "    <tr>\n",
       "      <th>3</th>\n",
       "      <td>科比-布莱恩特</td>\n",
       "      <td>220</td>\n",
       "      <td>8635</td>\n",
       "      <td>44.80%</td>\n",
       "      <td>2014</td>\n",
       "      <td>4499</td>\n",
       "      <td>33.10%</td>\n",
       "      <td>292</td>\n",
       "      <td>882</td>\n",
       "      <td>81.60%</td>\n",
       "      <td>1320</td>\n",
       "      <td>1617</td>\n",
       "      <td>1119</td>\n",
       "      <td>1040</td>\n",
       "      <td>310</td>\n",
       "      <td>144</td>\n",
       "      <td>647</td>\n",
       "      <td>660</td>\n",
       "      <td>5640</td>\n",
       "    </tr>\n",
       "    <tr>\n",
       "      <th>4</th>\n",
       "      <td>沙奎尔-奥尼尔</td>\n",
       "      <td>216</td>\n",
       "      <td>8099</td>\n",
       "      <td>56.30%</td>\n",
       "      <td>2041</td>\n",
       "      <td>3627</td>\n",
       "      <td>0.00%</td>\n",
       "      <td>0</td>\n",
       "      <td>0</td>\n",
       "      <td>50.40%</td>\n",
       "      <td>1168</td>\n",
       "      <td>2317</td>\n",
       "      <td>2508</td>\n",
       "      <td>582</td>\n",
       "      <td>117</td>\n",
       "      <td>459</td>\n",
       "      <td>649</td>\n",
       "      <td>769</td>\n",
       "      <td>5250</td>\n",
       "    </tr>\n",
       "  </tbody>\n",
       "</table>\n",
       "</div>"
      ],
      "text/plain": [
       "        球员  出场数  上场总时间（min）     投篮率  命中次数  出手次数   三分投球率  三分命中次数  三分出手次数  \\\n",
       "0  勒布朗-詹姆斯  239       10059  49.10%  2457  5006  33.20%     370    1116   \n",
       "1   迈克尔-乔丹  179        7474  48.70%  2188  4497  33.20%     148     446   \n",
       "2  卡里姆-贾巴尔  237        8851  53.30%  2356  4422   0.00%       0       0   \n",
       "3  科比-布莱恩特  220        8635  44.80%  2014  4499  33.10%     292     882   \n",
       "4  沙奎尔-奥尼尔  216        8099  56.30%  2041  3627   0.00%       0       0   \n",
       "\n",
       "      罚球率  罚球命中次数  罚球出手次数   篮板数  助攻次数  抢断次数  盖帽次数  失误次数  犯规次数  生涯总得分  \n",
       "0  74.30%    1627    2191  2122  1687   419   232   866   569   6911  \n",
       "1  82.80%    1463    1766  1152  1022   376   158   546   541   5987  \n",
       "2  74.00%    1050    1419  2481   767     0     0     0   797   5762  \n",
       "3  81.60%    1320    1617  1119  1040   310   144   647   660   5640  \n",
       "4  50.40%    1168    2317  2508   582   117   459   649   769   5250  "
      ]
     },
     "execution_count": 2,
     "metadata": {},
     "output_type": "execute_result"
    }
   ],
   "source": [
    "dataset = pd.read_csv('NBA.csv')\n",
    "dataset.head()"
   ]
  },
  {
   "cell_type": "code",
   "execution_count": 3,
   "id": "bf6958ba-8949-4b69-bb0e-2459a4bd38b5",
   "metadata": {},
   "outputs": [],
   "source": [
    "dataset['三分投球率'] = dataset['三分投球率'].str.rstrip('%').astype('float')/100\n",
    "dataset['投篮率'] = dataset['投篮率'].str.rstrip('%').astype('float')/100\n",
    "dataset['罚球率'] = dataset['罚球率'].str.rstrip('%').astype('float')/100\n",
    "scaler = preprocessing.StandardScaler()\n",
    "for name in dataset.columns[1:]:\n",
    "    dataset[name] = scaler.fit_transform(dataset[name].values.reshape((-1, 1)))"
   ]
  },
  {
   "cell_type": "markdown",
   "id": "b6d7d0aa-b18f-4763-81e6-e66445d0a3bf",
   "metadata": {},
   "source": [
    "### 2. 主成分分析"
   ]
  },
  {
   "cell_type": "code",
   "execution_count": 4,
   "id": "97789dbb-5536-48bf-bdc2-534b181e6877",
   "metadata": {},
   "outputs": [
    {
     "data": {
      "image/png": "[encoded data removed]",
      "text/plain": [
       "<Figure size 432x288 with 1 Axes>"
      ]
     },
     "metadata": {
      "needs_background": "light"
     },
     "output_type": "display_data"
    }
   ],
   "source": [
    "%matplotlib inline\n",
    "pca = decomposition.PCA()\n",
    "pca.fit(dataset.iloc[:,1:-1])\n",
    "plt.plot(pca.explained_variance_)\n",
    "plt.title('Scree plot')\n",
    "plt.xlim((0, 17))\n",
    "plt.show()"
   ]
  },
  {
   "cell_type": "markdown",
   "id": "609c457f-b1f8-4c98-b1ae-1703794cae68",
   "metadata": {},
   "source": [
    "拐点出现在2，但是不能只保留一个主成分，我们考虑累计方差贡献率。"
   ]
  },
  {
   "cell_type": "code",
   "execution_count": 5,
   "id": "bc5e9da3-0ddf-4d50-b6bc-d60a6baf16d5",
   "metadata": {},
   "outputs": [
    {
     "data": {
      "text/plain": [
       "array([0.62523622, 0.72812121, 0.79922937, 0.85002039, 0.88895231,\n",
       "       0.92426273, 0.9500385 , 0.96947125, 0.97938626, 0.98594556,\n",
       "       0.99159283, 0.99557015, 0.99774468, 0.99910212, 0.99953189,\n",
       "       0.99984814, 1.        ])"
      ]
     },
     "execution_count": 5,
     "metadata": {},
     "output_type": "execute_result"
    }
   ],
   "source": [
    "np.cumsum(pca.explained_variance_ratio_)"
   ]
  },
  {
   "cell_type": "markdown",
   "id": "5b5e9ffe-8724-4dfa-9f4a-020b78f0201a",
   "metadata": {},
   "source": [
    "三个主成分的累计方差贡献率大约是80%。"
   ]
  },
  {
   "cell_type": "markdown",
   "id": "d49ace47-77aa-4865-b13b-2b170d10ad0e",
   "metadata": {},
   "source": [
    "### 3. 主成分得分"
   ]
  },
  {
   "cell_type": "code",
   "execution_count": 27,
   "id": "9961e387-4e6c-4b32-a948-10f05ebcfec6",
   "metadata": {},
   "outputs": [
    {
     "data": {
      "text/html": [
       "<div>\n",
       "<style scoped>\n",
       "    .dataframe tbody tr th:only-of-type {\n",
       "        vertical-align: middle;\n",
       "    }\n",
       "\n",
       "    .dataframe tbody tr th {\n",
       "        vertical-align: top;\n",
       "    }\n",
       "\n",
       "    .dataframe thead th {\n",
       "        text-align: right;\n",
       "    }\n",
       "</style>\n",
       "<table border=\"1\" class=\"dataframe\">\n",
       "  <thead>\n",
       "    <tr style=\"text-align: right;\">\n",
       "      <th></th>\n",
       "      <th>得分1</th>\n",
       "      <th>得分2</th>\n",
       "      <th>得分3</th>\n",
       "    </tr>\n",
       "    <tr>\n",
       "      <th>球员</th>\n",
       "      <th></th>\n",
       "      <th></th>\n",
       "      <th></th>\n",
       "    </tr>\n",
       "  </thead>\n",
       "  <tbody>\n",
       "    <tr>\n",
       "      <th>勒布朗-詹姆斯</th>\n",
       "      <td>34.365069</td>\n",
       "      <td>4.508836</td>\n",
       "      <td>5.635961</td>\n",
       "    </tr>\n",
       "    <tr>\n",
       "      <th>迈克尔-乔丹</th>\n",
       "      <td>24.760980</td>\n",
       "      <td>-0.677471</td>\n",
       "      <td>2.460398</td>\n",
       "    </tr>\n",
       "    <tr>\n",
       "      <th>卡里姆-贾巴尔</th>\n",
       "      <td>18.306594</td>\n",
       "      <td>-8.768707</td>\n",
       "      <td>-0.663464</td>\n",
       "    </tr>\n",
       "    <tr>\n",
       "      <th>科比-布莱恩特</th>\n",
       "      <td>26.521096</td>\n",
       "      <td>3.839059</td>\n",
       "      <td>4.056417</td>\n",
       "    </tr>\n",
       "    <tr>\n",
       "      <th>沙奎尔-奥尼尔</th>\n",
       "      <td>24.242945</td>\n",
       "      <td>-10.433551</td>\n",
       "      <td>-0.478099</td>\n",
       "    </tr>\n",
       "    <tr>\n",
       "      <th>...</th>\n",
       "      <td>...</td>\n",
       "      <td>...</td>\n",
       "      <td>...</td>\n",
       "    </tr>\n",
       "    <tr>\n",
       "      <th>马歇尔-霍金斯</th>\n",
       "      <td>-2.201894</td>\n",
       "      <td>-0.494947</td>\n",
       "      <td>2.827026</td>\n",
       "    </tr>\n",
       "    <tr>\n",
       "      <th>马龙-瑞德蒙德</th>\n",
       "      <td>-2.211205</td>\n",
       "      <td>-0.492774</td>\n",
       "      <td>2.829773</td>\n",
       "    </tr>\n",
       "    <tr>\n",
       "      <th>鲍伯-普利迪</th>\n",
       "      <td>-2.210061</td>\n",
       "      <td>-0.493689</td>\n",
       "      <td>2.829020</td>\n",
       "    </tr>\n",
       "    <tr>\n",
       "      <th>鲍比-赫利</th>\n",
       "      <td>-2.212446</td>\n",
       "      <td>-0.492361</td>\n",
       "      <td>2.829633</td>\n",
       "    </tr>\n",
       "    <tr>\n",
       "      <th>齐纳努-欧努阿库</th>\n",
       "      <td>-2.200008</td>\n",
       "      <td>-0.490362</td>\n",
       "      <td>2.831606</td>\n",
       "    </tr>\n",
       "  </tbody>\n",
       "</table>\n",
       "<p>2448 rows × 3 columns</p>\n",
       "</div>"
      ],
      "text/plain": [
       "                得分1        得分2       得分3\n",
       "球员                                      \n",
       "勒布朗-詹姆斯   34.365069   4.508836  5.635961\n",
       "迈克尔-乔丹    24.760980  -0.677471  2.460398\n",
       "卡里姆-贾巴尔   18.306594  -8.768707 -0.663464\n",
       "科比-布莱恩特   26.521096   3.839059  4.056417\n",
       "沙奎尔-奥尼尔   24.242945 -10.433551 -0.478099\n",
       "...             ...        ...       ...\n",
       "马歇尔-霍金斯   -2.201894  -0.494947  2.827026\n",
       "马龙-瑞德蒙德   -2.211205  -0.492774  2.829773\n",
       "鲍伯-普利迪    -2.210061  -0.493689  2.829020\n",
       "鲍比-赫利     -2.212446  -0.492361  2.829633\n",
       "齐纳努-欧努阿库  -2.200008  -0.490362  2.831606\n",
       "\n",
       "[2448 rows x 3 columns]"
      ]
     },
     "execution_count": 27,
     "metadata": {},
     "output_type": "execute_result"
    }
   ],
   "source": [
    "pca.set_params(n_components=3)\n",
    "score = pd.DataFrame(pca.transform(dataset.iloc[:,1:-1])[:,0:3])\n",
    "score.index = dataset.iloc[:,0]\n",
    "score.columns = [\"得分1\", \"得分2\", \"得分3\"]\n",
    "score"
   ]
  },
  {
   "cell_type": "code",
   "execution_count": 28,
   "id": "7b7afe55-cffa-4f38-8fc5-4b48bb1fc0b4",
   "metadata": {},
   "outputs": [
    {
     "data": {
      "image/png": "[encoded data removed]",
      "text/plain": [
       "<Figure size 432x288 with 1 Axes>"
      ]
     },
     "metadata": {
      "needs_background": "light"
     },
     "output_type": "display_data"
    },
    {
     "name": "stdout",
     "output_type": "stream",
     "text": [
      "Index(['出场数', '上场总时间（min）', '投篮率', '命中次数', '出手次数', '三分投球率', '三分命中次数', '三分出手次数',\n",
      "       '罚球率', '罚球命中次数', '罚球出手次数', '篮板数', '助攻次数', '抢断次数', '盖帽次数', '失误次数',\n",
      "       '犯规次数', '生涯总得分'],\n",
      "      dtype='object')\n"
     ]
    }
   ],
   "source": [
    "plt.plot(np.arange(0,17), pca.components_[0], label='score1')\n",
    "plt.plot(np.arange(0,17), pca.components_[1], label='score2')\n",
    "plt.plot(np.arange(0,17), pca.components_[2], label='score3')\n",
    "plt.legend()\n",
    "plt.xlim((0, 17))\n",
    "plt.show()\n",
    "print(dataset.columns[1:])"
   ]
  },
  {
   "cell_type": "markdown",
   "id": "a3dd6c6b-5dfe-466d-a345-538dd0920973",
   "metadata": {},
   "source": [
    "第一个主成分主要不考虑球员的投篮率、三分投球率和罚球率，刻画了球员一般属性的趋势；第二个主成分主要考虑球员的三分投球率、三分命中次数和三分出手次数；第三个主成分主要考虑球员的投篮率、三分投球率和罚球率，这些越低得分越高，而三分命中次数、三分出手次数越高，得分越高。"
   ]
  },
  {
   "cell_type": "code",
   "execution_count": 29,
   "id": "bdace541-6708-4e7f-8297-b8dbf7433564",
   "metadata": {},
   "outputs": [
    {
     "data": {
      "text/html": [
       "<div>\n",
       "<style scoped>\n",
       "    .dataframe tbody tr th:only-of-type {\n",
       "        vertical-align: middle;\n",
       "    }\n",
       "\n",
       "    .dataframe tbody tr th {\n",
       "        vertical-align: top;\n",
       "    }\n",
       "\n",
       "    .dataframe thead th {\n",
       "        text-align: right;\n",
       "    }\n",
       "</style>\n",
       "<table border=\"1\" class=\"dataframe\">\n",
       "  <thead>\n",
       "    <tr style=\"text-align: right;\">\n",
       "      <th></th>\n",
       "      <th>得分1</th>\n",
       "      <th>得分2</th>\n",
       "      <th>得分3</th>\n",
       "    </tr>\n",
       "    <tr>\n",
       "      <th>球员</th>\n",
       "      <th></th>\n",
       "      <th></th>\n",
       "      <th></th>\n",
       "    </tr>\n",
       "  </thead>\n",
       "  <tbody>\n",
       "    <tr>\n",
       "      <th>沙奎尔-奥尼尔</th>\n",
       "      <td>24.242945</td>\n",
       "      <td>-10.433551</td>\n",
       "      <td>-0.478099</td>\n",
       "    </tr>\n",
       "    <tr>\n",
       "      <th>詹姆斯-哈登</th>\n",
       "      <td>14.242891</td>\n",
       "      <td>6.295139</td>\n",
       "      <td>3.154667</td>\n",
       "    </tr>\n",
       "    <tr>\n",
       "      <th>姚明</th>\n",
       "      <td>1.010957</td>\n",
       "      <td>-1.109418</td>\n",
       "      <td>-0.817356</td>\n",
       "    </tr>\n",
       "    <tr>\n",
       "      <th>斯蒂芬-库里</th>\n",
       "      <td>13.427905</td>\n",
       "      <td>10.569683</td>\n",
       "      <td>3.922132</td>\n",
       "    </tr>\n",
       "  </tbody>\n",
       "</table>\n",
       "</div>"
      ],
      "text/plain": [
       "               得分1        得分2       得分3\n",
       "球员                                     \n",
       "沙奎尔-奥尼尔  24.242945 -10.433551 -0.478099\n",
       "詹姆斯-哈登   14.242891   6.295139  3.154667\n",
       "姚明        1.010957  -1.109418 -0.817356\n",
       "斯蒂芬-库里   13.427905  10.569683  3.922132"
      ]
     },
     "execution_count": 29,
     "metadata": {},
     "output_type": "execute_result"
    }
   ],
   "source": [
    "score.loc[['沙奎尔-奥尼尔', '詹姆斯-哈登', '姚明', '斯蒂芬-库里']]"
   ]
  },
  {
   "cell_type": "markdown",
   "id": "b7b7d294-c4fd-4ad8-b915-504c61f225ac",
   "metadata": {},
   "source": [
    "这样的结果我们发现一些规律。首先分析得分2，姚明和奥尼尔都是中锋，他们很少参与三分球的进攻，而库里作为联盟中三分最强的选手，自然在得分二上得分较高。其次是得分3，得分越高，说明这些球员进攻效率越高，哈登和库里进攻效率很高。得分1刻画了均值，姚明的得分比较低，这是因为他不是季后赛常客，没有特别多的出场机会。"
   ]
  },
  {
   "cell_type": "markdown",
   "id": "b3ee92b8-8b80-412e-9547-10164e8b727c",
   "metadata": {},
   "source": [
    "### 4. 聚类分析"
   ]
  },
  {
   "cell_type": "code",
   "execution_count": 34,
   "id": "e513e842-37b2-4497-8ac1-2b7f62f44d79",
   "metadata": {
    "tags": []
   },
   "outputs": [
    {
     "name": "stdout",
     "output_type": "stream",
     "text": [
      "分成8类\n"
     ]
    },
    {
     "data": {
      "text/html": [
       "<div>\n",
       "<style scoped>\n",
       "    .dataframe tbody tr th:only-of-type {\n",
       "        vertical-align: middle;\n",
       "    }\n",
       "\n",
       "    .dataframe tbody tr th {\n",
       "        vertical-align: top;\n",
       "    }\n",
       "\n",
       "    .dataframe thead th {\n",
       "        text-align: right;\n",
       "    }\n",
       "</style>\n",
       "<table border=\"1\" class=\"dataframe\">\n",
       "  <thead>\n",
       "    <tr style=\"text-align: right;\">\n",
       "      <th></th>\n",
       "      <th>得分1</th>\n",
       "      <th>得分2</th>\n",
       "      <th>得分3</th>\n",
       "      <th>分类</th>\n",
       "    </tr>\n",
       "    <tr>\n",
       "      <th>球员</th>\n",
       "      <th></th>\n",
       "      <th></th>\n",
       "      <th></th>\n",
       "      <th></th>\n",
       "    </tr>\n",
       "  </thead>\n",
       "  <tbody>\n",
       "    <tr>\n",
       "      <th>勒布朗-詹姆斯</th>\n",
       "      <td>34.365069</td>\n",
       "      <td>4.508836</td>\n",
       "      <td>5.635961</td>\n",
       "      <td>5</td>\n",
       "    </tr>\n",
       "    <tr>\n",
       "      <th>迈克尔-乔丹</th>\n",
       "      <td>24.760980</td>\n",
       "      <td>-0.677471</td>\n",
       "      <td>2.460398</td>\n",
       "      <td>5</td>\n",
       "    </tr>\n",
       "    <tr>\n",
       "      <th>卡里姆-贾巴尔</th>\n",
       "      <td>18.306594</td>\n",
       "      <td>-8.768707</td>\n",
       "      <td>-0.663464</td>\n",
       "      <td>3</td>\n",
       "    </tr>\n",
       "    <tr>\n",
       "      <th>科比-布莱恩特</th>\n",
       "      <td>26.521096</td>\n",
       "      <td>3.839059</td>\n",
       "      <td>4.056417</td>\n",
       "      <td>5</td>\n",
       "    </tr>\n",
       "    <tr>\n",
       "      <th>沙奎尔-奥尼尔</th>\n",
       "      <td>24.242945</td>\n",
       "      <td>-10.433551</td>\n",
       "      <td>-0.478099</td>\n",
       "      <td>3</td>\n",
       "    </tr>\n",
       "    <tr>\n",
       "      <th>...</th>\n",
       "      <td>...</td>\n",
       "      <td>...</td>\n",
       "      <td>...</td>\n",
       "      <td>...</td>\n",
       "    </tr>\n",
       "    <tr>\n",
       "      <th>马歇尔-霍金斯</th>\n",
       "      <td>-2.201894</td>\n",
       "      <td>-0.494947</td>\n",
       "      <td>2.827026</td>\n",
       "      <td>6</td>\n",
       "    </tr>\n",
       "    <tr>\n",
       "      <th>马龙-瑞德蒙德</th>\n",
       "      <td>-2.211205</td>\n",
       "      <td>-0.492774</td>\n",
       "      <td>2.829773</td>\n",
       "      <td>6</td>\n",
       "    </tr>\n",
       "    <tr>\n",
       "      <th>鲍伯-普利迪</th>\n",
       "      <td>-2.210061</td>\n",
       "      <td>-0.493689</td>\n",
       "      <td>2.829020</td>\n",
       "      <td>6</td>\n",
       "    </tr>\n",
       "    <tr>\n",
       "      <th>鲍比-赫利</th>\n",
       "      <td>-2.212446</td>\n",
       "      <td>-0.492361</td>\n",
       "      <td>2.829633</td>\n",
       "      <td>6</td>\n",
       "    </tr>\n",
       "    <tr>\n",
       "      <th>齐纳努-欧努阿库</th>\n",
       "      <td>-2.200008</td>\n",
       "      <td>-0.490362</td>\n",
       "      <td>2.831606</td>\n",
       "      <td>6</td>\n",
       "    </tr>\n",
       "  </tbody>\n",
       "</table>\n",
       "<p>2448 rows × 4 columns</p>\n",
       "</div>"
      ],
      "text/plain": [
       "                得分1        得分2       得分3  分类\n",
       "球员                                          \n",
       "勒布朗-詹姆斯   34.365069   4.508836  5.635961   5\n",
       "迈克尔-乔丹    24.760980  -0.677471  2.460398   5\n",
       "卡里姆-贾巴尔   18.306594  -8.768707 -0.663464   3\n",
       "科比-布莱恩特   26.521096   3.839059  4.056417   5\n",
       "沙奎尔-奥尼尔   24.242945 -10.433551 -0.478099   3\n",
       "...             ...        ...       ...  ..\n",
       "马歇尔-霍金斯   -2.201894  -0.494947  2.827026   6\n",
       "马龙-瑞德蒙德   -2.211205  -0.492774  2.829773   6\n",
       "鲍伯-普利迪    -2.210061  -0.493689  2.829020   6\n",
       "鲍比-赫利     -2.212446  -0.492361  2.829633   6\n",
       "齐纳努-欧努阿库  -2.200008  -0.490362  2.831606   6\n",
       "\n",
       "[2448 rows x 4 columns]"
      ]
     },
     "execution_count": 34,
     "metadata": {},
     "output_type": "execute_result"
    }
   ],
   "source": [
    "kmeans = cluster.KMeans()\n",
    "kmeans.fit(score.iloc[:, :3])\n",
    "score['分类'] = kmeans.predict(score.iloc[:, :3])\n",
    "print(f'分成{len(kmeans.cluster_centers_)}类')\n",
    "score"
   ]
  },
  {
   "cell_type": "markdown",
   "id": "2f41a4d9-8021-4b94-9e70-bc53222aefd0",
   "metadata": {},
   "source": [
    "我们可以看到，整个联盟的球员被分成了8类，有明星球员、板凳球员、首发球员、轮换球员等等"
   ]
  }
 ],
 "metadata": {
  "kernelspec": {
   "display_name": "Python 3",
   "language": "python",
   "name": "python3"
  },
  "language_info": {
   "codemirror_mode": {
    "name": "ipython",
    "version": 3
   },
   "file_extension": ".py",
   "mimetype": "text/x-python",
   "name": "python",
   "nbconvert_exporter": "python",
   "pygments_lexer": "ipython3",
   "version": "3.8.8"
  }
 },
 "nbformat": 4,
 "nbformat_minor": 5
}
