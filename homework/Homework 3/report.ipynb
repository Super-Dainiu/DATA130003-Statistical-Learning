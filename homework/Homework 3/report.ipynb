{
 "cells": [
  {
   "cell_type": "markdown",
   "id": "895d409d-365d-4d3a-9672-c7422ae31a30",
   "metadata": {},
   "source": [
    "<h1><center>Homework 1</center></h1>\n",
    "<h4><center>邵彦骏 19307110036@fudan.edu.cn</center></h4>"
   ]
  },
  {
   "cell_type": "code",
   "execution_count": null,
   "id": "eeb37664-8942-4157-875f-184cca50d717",
   "metadata": {},
   "outputs": [],
   "source": [
    "library(tidyverse)"
   ]
  },
  {
   "cell_type": "markdown",
   "id": "48a665c3",
   "metadata": {},
   "source": [
    "## 1. 数据读入与汇总统计 "
   ]
  },
  {
   "cell_type": "code",
   "execution_count": 2,
   "id": "1aae463b",
   "metadata": {},
   "outputs": [
    {
     "data": {
      "text/html": [
       "<table>\n",
       "<thead><tr><th scope=col>rent</th><th scope=col>bedroom</th><th scope=col>livingroom</th><th scope=col>bathroom</th><th scope=col>area</th><th scope=col>room</th><th scope=col>floor_grp</th><th scope=col>subway</th><th scope=col>region</th><th scope=col>heating</th></tr></thead>\n",
       "<tbody>\n",
       "\t<tr><td>2730       </td><td>2          </td><td>1          </td><td>1          </td><td>12         </td><td>Master     </td><td>High       </td><td>Y          </td><td>Tongzhou   </td><td>Centralized</td></tr>\n",
       "\t<tr><td>2740       </td><td>3          </td><td>1          </td><td>1          </td><td> 9         </td><td>Second     </td><td>Low        </td><td>Y          </td><td>Changping  </td><td>Centralized</td></tr>\n",
       "\t<tr><td>2810       </td><td>3          </td><td>1          </td><td>1          </td><td>14         </td><td>Master     </td><td>Low        </td><td>Y          </td><td>Fengtai    </td><td>Centralized</td></tr>\n",
       "\t<tr><td>2650       </td><td>4          </td><td>1          </td><td>1          </td><td> 8         </td><td>Second     </td><td>Low        </td><td>Y          </td><td>Fengtai    </td><td>Centralized</td></tr>\n",
       "\t<tr><td>2670       </td><td>4          </td><td>1          </td><td>1          </td><td>13         </td><td>Master     </td><td>High       </td><td>N          </td><td>Fengtai    </td><td>Centralized</td></tr>\n",
       "\t<tr><td>2530       </td><td>3          </td><td>1          </td><td>1          </td><td>12         </td><td>Second     </td><td>High       </td><td>Y          </td><td>Shunyi     </td><td>Centralized</td></tr>\n",
       "\t<tr><td>2000       </td><td>2          </td><td>1          </td><td>1          </td><td>10         </td><td>Second     </td><td>High       </td><td>Y          </td><td>Daxing     </td><td>Centralized</td></tr>\n",
       "\t<tr><td>2780       </td><td>4          </td><td>1          </td><td>1          </td><td>13         </td><td>Master     </td><td>Med        </td><td>Y          </td><td>Chaoyang   </td><td>Centralized</td></tr>\n",
       "\t<tr><td>2790       </td><td>4          </td><td>1          </td><td>1          </td><td>10         </td><td>Second     </td><td>Low        </td><td>Y          </td><td>Changping  </td><td>Centralized</td></tr>\n",
       "\t<tr><td>2640       </td><td>4          </td><td>1          </td><td>1          </td><td>13         </td><td>Master     </td><td>Med        </td><td>Y          </td><td>Changping  </td><td>Centralized</td></tr>\n",
       "\t<tr><td>2910       </td><td>4          </td><td>1          </td><td>1          </td><td>18         </td><td>Master     </td><td>Low        </td><td>Y          </td><td>Changping  </td><td>Centralized</td></tr>\n",
       "\t<tr><td>2740       </td><td>2          </td><td>1          </td><td>1          </td><td>10         </td><td>Second     </td><td>High       </td><td>Y          </td><td>Haidian    </td><td>Centralized</td></tr>\n",
       "\t<tr><td>2540       </td><td>3          </td><td>1          </td><td>1          </td><td>12         </td><td>Master     </td><td>Med        </td><td>Y          </td><td>Changping  </td><td>Centralized</td></tr>\n",
       "\t<tr><td>2740       </td><td>3          </td><td>1          </td><td>1          </td><td>11         </td><td>Second     </td><td>Med        </td><td>Y          </td><td>Chaoyang   </td><td>Centralized</td></tr>\n",
       "\t<tr><td>2340       </td><td>3          </td><td>1          </td><td>1          </td><td>11         </td><td>Master     </td><td>Low        </td><td>Y          </td><td>Fengtai    </td><td>Centralized</td></tr>\n",
       "\t<tr><td>2800       </td><td>5          </td><td>1          </td><td>1          </td><td>16         </td><td>Second     </td><td>Low        </td><td>Y          </td><td>Chaoyang   </td><td>Centralized</td></tr>\n",
       "\t<tr><td>2500       </td><td>2          </td><td>1          </td><td>1          </td><td> 9         </td><td>Second     </td><td>Med        </td><td>Y          </td><td>Tongzhou   </td><td>Centralized</td></tr>\n",
       "\t<tr><td>2500       </td><td>2          </td><td>1          </td><td>1          </td><td>12         </td><td>Second     </td><td>Med        </td><td>N          </td><td>Tongzhou   </td><td>Centralized</td></tr>\n",
       "\t<tr><td>3400       </td><td>3          </td><td>1          </td><td>1          </td><td>13         </td><td>Second     </td><td>Med        </td><td>Y          </td><td>Haidian    </td><td>Centralized</td></tr>\n",
       "\t<tr><td>2700       </td><td>2          </td><td>1          </td><td>1          </td><td> 9         </td><td>Master     </td><td>High       </td><td>N          </td><td>Chaoyang   </td><td>Self       </td></tr>\n",
       "\t<tr><td>2390       </td><td>2          </td><td>1          </td><td>1          </td><td>14         </td><td>Master     </td><td>High       </td><td>Y          </td><td>Tongzhou   </td><td>Centralized</td></tr>\n",
       "\t<tr><td>2840       </td><td>2          </td><td>1          </td><td>1          </td><td>13         </td><td>Master     </td><td>Med        </td><td>Y          </td><td>Shijingshan</td><td>Centralized</td></tr>\n",
       "\t<tr><td>2840       </td><td>2          </td><td>1          </td><td>1          </td><td>12         </td><td>Master     </td><td>High       </td><td>N          </td><td>Tongzhou   </td><td>Centralized</td></tr>\n",
       "\t<tr><td>3620       </td><td>2          </td><td>1          </td><td>1          </td><td>13         </td><td>Master     </td><td>Low        </td><td>Y          </td><td>Chaoyang   </td><td>Centralized</td></tr>\n",
       "\t<tr><td>3170       </td><td>3          </td><td>1          </td><td>1          </td><td>14         </td><td>Second     </td><td>High       </td><td>Y          </td><td>Chaoyang   </td><td>Centralized</td></tr>\n",
       "\t<tr><td>2500       </td><td>4          </td><td>1          </td><td>1          </td><td>15         </td><td>Second     </td><td>High       </td><td>Y          </td><td>Daxing     </td><td>Centralized</td></tr>\n",
       "\t<tr><td>2740       </td><td>3          </td><td>1          </td><td>1          </td><td>13         </td><td>Second     </td><td>Med        </td><td>Y          </td><td>Fengtai    </td><td>Centralized</td></tr>\n",
       "\t<tr><td>2070       </td><td>2          </td><td>1          </td><td>1          </td><td>11         </td><td>Master     </td><td>Med        </td><td>Y          </td><td>Shunyi     </td><td>Centralized</td></tr>\n",
       "\t<tr><td>2930       </td><td>3          </td><td>1          </td><td>1          </td><td>11         </td><td>Second     </td><td>Med        </td><td>Y          </td><td>Chaoyang   </td><td>Centralized</td></tr>\n",
       "\t<tr><td>2490       </td><td>2          </td><td>1          </td><td>1          </td><td>13         </td><td>Master     </td><td>Med        </td><td>Y          </td><td>Tongzhou   </td><td>Centralized</td></tr>\n",
       "\t<tr><td>...</td><td>...</td><td>...</td><td>...</td><td>...</td><td>...</td><td>...</td><td>...</td><td>...</td><td>...</td></tr>\n",
       "\t<tr><td>4560       </td><td>2          </td><td>1          </td><td>1          </td><td>18         </td><td>Master     </td><td>Med        </td><td>Y          </td><td>Xicheng    </td><td>Centralized</td></tr>\n",
       "\t<tr><td>2390       </td><td>3          </td><td>1          </td><td>1          </td><td>24         </td><td>Master     </td><td>Low        </td><td>Y          </td><td>Tongzhou   </td><td>Centralized</td></tr>\n",
       "\t<tr><td>2450       </td><td>4          </td><td>1          </td><td>1          </td><td>16         </td><td>Master     </td><td>Med        </td><td>Y          </td><td>Chaoyang   </td><td>Centralized</td></tr>\n",
       "\t<tr><td>2430       </td><td>2          </td><td>1          </td><td>1          </td><td>13         </td><td>Master     </td><td>Med        </td><td>N          </td><td>Tongzhou   </td><td>Centralized</td></tr>\n",
       "\t<tr><td>2190       </td><td>2          </td><td>1          </td><td>1          </td><td> 9         </td><td>Second     </td><td>Med        </td><td>N          </td><td>Tongzhou   </td><td>Centralized</td></tr>\n",
       "\t<tr><td>2900       </td><td>4          </td><td>1          </td><td>2          </td><td>15         </td><td>Second     </td><td>Med        </td><td>Y          </td><td>Fengtai    </td><td>Centralized</td></tr>\n",
       "\t<tr><td>2690       </td><td>3          </td><td>1          </td><td>1          </td><td>12         </td><td>Second     </td><td>Med        </td><td>Y          </td><td>Fengtai    </td><td>Centralized</td></tr>\n",
       "\t<tr><td>2830       </td><td>3          </td><td>1          </td><td>1          </td><td>14         </td><td>Master     </td><td>Med        </td><td>Y          </td><td>Fengtai    </td><td>Centralized</td></tr>\n",
       "\t<tr><td>2530       </td><td>3          </td><td>1          </td><td>1          </td><td>13         </td><td>Second     </td><td>High       </td><td>Y          </td><td>Daxing     </td><td>Centralized</td></tr>\n",
       "\t<tr><td>1570       </td><td>4          </td><td>1          </td><td>1          </td><td>10         </td><td>Second     </td><td>Low        </td><td>Y          </td><td>Fangshan   </td><td>Centralized</td></tr>\n",
       "\t<tr><td>1690       </td><td>3          </td><td>1          </td><td>1          </td><td>16         </td><td>Master     </td><td>Med        </td><td>Y          </td><td>Fangshan   </td><td>Self       </td></tr>\n",
       "\t<tr><td>2790       </td><td>3          </td><td>1          </td><td>1          </td><td>18         </td><td>Master     </td><td>Med        </td><td>Y          </td><td>Tongzhou   </td><td>Self       </td></tr>\n",
       "\t<tr><td>3930       </td><td>3          </td><td>1          </td><td>1          </td><td>10         </td><td>Second     </td><td>Med        </td><td>Y          </td><td>Chaoyang   </td><td>Centralized</td></tr>\n",
       "\t<tr><td>3530       </td><td>3          </td><td>1          </td><td>1          </td><td> 8         </td><td>Second     </td><td>Med        </td><td>Y          </td><td>Haidian    </td><td>Centralized</td></tr>\n",
       "\t<tr><td>3190       </td><td>2          </td><td>1          </td><td>1          </td><td> 9         </td><td>Second     </td><td>High       </td><td>Y          </td><td>Chaoyang   </td><td>Centralized</td></tr>\n",
       "\t<tr><td>3360       </td><td>3          </td><td>1          </td><td>1          </td><td>21         </td><td>Master     </td><td>High       </td><td>Y          </td><td>Changping  </td><td>Centralized</td></tr>\n",
       "\t<tr><td>2330       </td><td>3          </td><td>1          </td><td>1          </td><td>14         </td><td>Master     </td><td>High       </td><td>Y          </td><td>Chaoyang   </td><td>Self       </td></tr>\n",
       "\t<tr><td>2180       </td><td>4          </td><td>1          </td><td>1          </td><td> 9         </td><td>Second     </td><td>High       </td><td>N          </td><td>Chaoyang   </td><td>Self       </td></tr>\n",
       "\t<tr><td>1850       </td><td>4          </td><td>1          </td><td>1          </td><td>11         </td><td>Master     </td><td>Low        </td><td>N          </td><td>Tongzhou   </td><td>Centralized</td></tr>\n",
       "\t<tr><td>2490       </td><td>3          </td><td>1          </td><td>1          </td><td> 9         </td><td>Master     </td><td>Low        </td><td>Y          </td><td>Fengtai    </td><td>Centralized</td></tr>\n",
       "\t<tr><td>2560       </td><td>5          </td><td>1          </td><td>2          </td><td> 8         </td><td>Second     </td><td>Med        </td><td>Y          </td><td>Fengtai    </td><td>Centralized</td></tr>\n",
       "\t<tr><td>2830       </td><td>4          </td><td>1          </td><td>1          </td><td>19         </td><td>Master     </td><td>Low        </td><td>Y          </td><td>Shunyi     </td><td>Centralized</td></tr>\n",
       "\t<tr><td>3200       </td><td>2          </td><td>1          </td><td>1          </td><td>21         </td><td>Master     </td><td>Med        </td><td>Y          </td><td>Shijingshan</td><td>Centralized</td></tr>\n",
       "\t<tr><td>2560       </td><td>3          </td><td>1          </td><td>1          </td><td>12         </td><td>Second     </td><td>Low        </td><td>N          </td><td>Chaoyang   </td><td>Self       </td></tr>\n",
       "\t<tr><td>2830       </td><td>5          </td><td>1          </td><td>1          </td><td> 8         </td><td>Second     </td><td>High       </td><td>Y          </td><td>Chaoyang   </td><td>Centralized</td></tr>\n",
       "\t<tr><td>3340       </td><td>4          </td><td>1          </td><td>1          </td><td> 8         </td><td>Second     </td><td>High       </td><td>Y          </td><td>Xicheng    </td><td>Centralized</td></tr>\n",
       "\t<tr><td>2790       </td><td>3          </td><td>1          </td><td>1          </td><td>18         </td><td>Master     </td><td>Low        </td><td>Y          </td><td>Chaoyang   </td><td>Centralized</td></tr>\n",
       "\t<tr><td>2690       </td><td>2          </td><td>1          </td><td>1          </td><td>10         </td><td>Second     </td><td>Med        </td><td>Y          </td><td>Changping  </td><td>Centralized</td></tr>\n",
       "\t<tr><td>2230       </td><td>2          </td><td>1          </td><td>1          </td><td>12         </td><td>Second     </td><td>Med        </td><td>Y          </td><td>Tongzhou   </td><td>Centralized</td></tr>\n",
       "\t<tr><td>2390       </td><td>2          </td><td>1          </td><td>1          </td><td>14         </td><td>Master     </td><td>Med        </td><td>Y          </td><td>Tongzhou   </td><td>Centralized</td></tr>\n",
       "</tbody>\n",
       "</table>\n"
      ],
      "text/latex": [
       "\\begin{tabular}{r|llllllllll}\n",
       " rent & bedroom & livingroom & bathroom & area & room & floor\\_grp & subway & region & heating\\\\\n",
       "\\hline\n",
       "\t 2730        & 2           & 1           & 1           & 12          & Master      & High        & Y           & Tongzhou    & Centralized\\\\\n",
       "\t 2740        & 3           & 1           & 1           &  9          & Second      & Low         & Y           & Changping   & Centralized\\\\\n",
       "\t 2810        & 3           & 1           & 1           & 14          & Master      & Low         & Y           & Fengtai     & Centralized\\\\\n",
       "\t 2650        & 4           & 1           & 1           &  8          & Second      & Low         & Y           & Fengtai     & Centralized\\\\\n",
       "\t 2670        & 4           & 1           & 1           & 13          & Master      & High        & N           & Fengtai     & Centralized\\\\\n",
       "\t 2530        & 3           & 1           & 1           & 12          & Second      & High        & Y           & Shunyi      & Centralized\\\\\n",
       "\t 2000        & 2           & 1           & 1           & 10          & Second      & High        & Y           & Daxing      & Centralized\\\\\n",
       "\t 2780        & 4           & 1           & 1           & 13          & Master      & Med         & Y           & Chaoyang    & Centralized\\\\\n",
       "\t 2790        & 4           & 1           & 1           & 10          & Second      & Low         & Y           & Changping   & Centralized\\\\\n",
       "\t 2640        & 4           & 1           & 1           & 13          & Master      & Med         & Y           & Changping   & Centralized\\\\\n",
       "\t 2910        & 4           & 1           & 1           & 18          & Master      & Low         & Y           & Changping   & Centralized\\\\\n",
       "\t 2740        & 2           & 1           & 1           & 10          & Second      & High        & Y           & Haidian     & Centralized\\\\\n",
       "\t 2540        & 3           & 1           & 1           & 12          & Master      & Med         & Y           & Changping   & Centralized\\\\\n",
       "\t 2740        & 3           & 1           & 1           & 11          & Second      & Med         & Y           & Chaoyang    & Centralized\\\\\n",
       "\t 2340        & 3           & 1           & 1           & 11          & Master      & Low         & Y           & Fengtai     & Centralized\\\\\n",
       "\t 2800        & 5           & 1           & 1           & 16          & Second      & Low         & Y           & Chaoyang    & Centralized\\\\\n",
       "\t 2500        & 2           & 1           & 1           &  9          & Second      & Med         & Y           & Tongzhou    & Centralized\\\\\n",
       "\t 2500        & 2           & 1           & 1           & 12          & Second      & Med         & N           & Tongzhou    & Centralized\\\\\n",
       "\t 3400        & 3           & 1           & 1           & 13          & Second      & Med         & Y           & Haidian     & Centralized\\\\\n",
       "\t 2700        & 2           & 1           & 1           &  9          & Master      & High        & N           & Chaoyang    & Self       \\\\\n",
       "\t 2390        & 2           & 1           & 1           & 14          & Master      & High        & Y           & Tongzhou    & Centralized\\\\\n",
       "\t 2840        & 2           & 1           & 1           & 13          & Master      & Med         & Y           & Shijingshan & Centralized\\\\\n",
       "\t 2840        & 2           & 1           & 1           & 12          & Master      & High        & N           & Tongzhou    & Centralized\\\\\n",
       "\t 3620        & 2           & 1           & 1           & 13          & Master      & Low         & Y           & Chaoyang    & Centralized\\\\\n",
       "\t 3170        & 3           & 1           & 1           & 14          & Second      & High        & Y           & Chaoyang    & Centralized\\\\\n",
       "\t 2500        & 4           & 1           & 1           & 15          & Second      & High        & Y           & Daxing      & Centralized\\\\\n",
       "\t 2740        & 3           & 1           & 1           & 13          & Second      & Med         & Y           & Fengtai     & Centralized\\\\\n",
       "\t 2070        & 2           & 1           & 1           & 11          & Master      & Med         & Y           & Shunyi      & Centralized\\\\\n",
       "\t 2930        & 3           & 1           & 1           & 11          & Second      & Med         & Y           & Chaoyang    & Centralized\\\\\n",
       "\t 2490        & 2           & 1           & 1           & 13          & Master      & Med         & Y           & Tongzhou    & Centralized\\\\\n",
       "\t ... & ... & ... & ... & ... & ... & ... & ... & ... & ...\\\\\n",
       "\t 4560        & 2           & 1           & 1           & 18          & Master      & Med         & Y           & Xicheng     & Centralized\\\\\n",
       "\t 2390        & 3           & 1           & 1           & 24          & Master      & Low         & Y           & Tongzhou    & Centralized\\\\\n",
       "\t 2450        & 4           & 1           & 1           & 16          & Master      & Med         & Y           & Chaoyang    & Centralized\\\\\n",
       "\t 2430        & 2           & 1           & 1           & 13          & Master      & Med         & N           & Tongzhou    & Centralized\\\\\n",
       "\t 2190        & 2           & 1           & 1           &  9          & Second      & Med         & N           & Tongzhou    & Centralized\\\\\n",
       "\t 2900        & 4           & 1           & 2           & 15          & Second      & Med         & Y           & Fengtai     & Centralized\\\\\n",
       "\t 2690        & 3           & 1           & 1           & 12          & Second      & Med         & Y           & Fengtai     & Centralized\\\\\n",
       "\t 2830        & 3           & 1           & 1           & 14          & Master      & Med         & Y           & Fengtai     & Centralized\\\\\n",
       "\t 2530        & 3           & 1           & 1           & 13          & Second      & High        & Y           & Daxing      & Centralized\\\\\n",
       "\t 1570        & 4           & 1           & 1           & 10          & Second      & Low         & Y           & Fangshan    & Centralized\\\\\n",
       "\t 1690        & 3           & 1           & 1           & 16          & Master      & Med         & Y           & Fangshan    & Self       \\\\\n",
       "\t 2790        & 3           & 1           & 1           & 18          & Master      & Med         & Y           & Tongzhou    & Self       \\\\\n",
       "\t 3930        & 3           & 1           & 1           & 10          & Second      & Med         & Y           & Chaoyang    & Centralized\\\\\n",
       "\t 3530        & 3           & 1           & 1           &  8          & Second      & Med         & Y           & Haidian     & Centralized\\\\\n",
       "\t 3190        & 2           & 1           & 1           &  9          & Second      & High        & Y           & Chaoyang    & Centralized\\\\\n",
       "\t 3360        & 3           & 1           & 1           & 21          & Master      & High        & Y           & Changping   & Centralized\\\\\n",
       "\t 2330        & 3           & 1           & 1           & 14          & Master      & High        & Y           & Chaoyang    & Self       \\\\\n",
       "\t 2180        & 4           & 1           & 1           &  9          & Second      & High        & N           & Chaoyang    & Self       \\\\\n",
       "\t 1850        & 4           & 1           & 1           & 11          & Master      & Low         & N           & Tongzhou    & Centralized\\\\\n",
       "\t 2490        & 3           & 1           & 1           &  9          & Master      & Low         & Y           & Fengtai     & Centralized\\\\\n",
       "\t 2560        & 5           & 1           & 2           &  8          & Second      & Med         & Y           & Fengtai     & Centralized\\\\\n",
       "\t 2830        & 4           & 1           & 1           & 19          & Master      & Low         & Y           & Shunyi      & Centralized\\\\\n",
       "\t 3200        & 2           & 1           & 1           & 21          & Master      & Med         & Y           & Shijingshan & Centralized\\\\\n",
       "\t 2560        & 3           & 1           & 1           & 12          & Second      & Low         & N           & Chaoyang    & Self       \\\\\n",
       "\t 2830        & 5           & 1           & 1           &  8          & Second      & High        & Y           & Chaoyang    & Centralized\\\\\n",
       "\t 3340        & 4           & 1           & 1           &  8          & Second      & High        & Y           & Xicheng     & Centralized\\\\\n",
       "\t 2790        & 3           & 1           & 1           & 18          & Master      & Low         & Y           & Chaoyang    & Centralized\\\\\n",
       "\t 2690        & 2           & 1           & 1           & 10          & Second      & Med         & Y           & Changping   & Centralized\\\\\n",
       "\t 2230        & 2           & 1           & 1           & 12          & Second      & Med         & Y           & Tongzhou    & Centralized\\\\\n",
       "\t 2390        & 2           & 1           & 1           & 14          & Master      & Med         & Y           & Tongzhou    & Centralized\\\\\n",
       "\\end{tabular}\n"
      ],
      "text/markdown": [
       "\n",
       "| rent | bedroom | livingroom | bathroom | area | room | floor_grp | subway | region | heating |\n",
       "|---|---|---|---|---|---|---|---|---|---|\n",
       "| 2730        | 2           | 1           | 1           | 12          | Master      | High        | Y           | Tongzhou    | Centralized |\n",
       "| 2740        | 3           | 1           | 1           |  9          | Second      | Low         | Y           | Changping   | Centralized |\n",
       "| 2810        | 3           | 1           | 1           | 14          | Master      | Low         | Y           | Fengtai     | Centralized |\n",
       "| 2650        | 4           | 1           | 1           |  8          | Second      | Low         | Y           | Fengtai     | Centralized |\n",
       "| 2670        | 4           | 1           | 1           | 13          | Master      | High        | N           | Fengtai     | Centralized |\n",
       "| 2530        | 3           | 1           | 1           | 12          | Second      | High        | Y           | Shunyi      | Centralized |\n",
       "| 2000        | 2           | 1           | 1           | 10          | Second      | High        | Y           | Daxing      | Centralized |\n",
       "| 2780        | 4           | 1           | 1           | 13          | Master      | Med         | Y           | Chaoyang    | Centralized |\n",
       "| 2790        | 4           | 1           | 1           | 10          | Second      | Low         | Y           | Changping   | Centralized |\n",
       "| 2640        | 4           | 1           | 1           | 13          | Master      | Med         | Y           | Changping   | Centralized |\n",
       "| 2910        | 4           | 1           | 1           | 18          | Master      | Low         | Y           | Changping   | Centralized |\n",
       "| 2740        | 2           | 1           | 1           | 10          | Second      | High        | Y           | Haidian     | Centralized |\n",
       "| 2540        | 3           | 1           | 1           | 12          | Master      | Med         | Y           | Changping   | Centralized |\n",
       "| 2740        | 3           | 1           | 1           | 11          | Second      | Med         | Y           | Chaoyang    | Centralized |\n",
       "| 2340        | 3           | 1           | 1           | 11          | Master      | Low         | Y           | Fengtai     | Centralized |\n",
       "| 2800        | 5           | 1           | 1           | 16          | Second      | Low         | Y           | Chaoyang    | Centralized |\n",
       "| 2500        | 2           | 1           | 1           |  9          | Second      | Med         | Y           | Tongzhou    | Centralized |\n",
       "| 2500        | 2           | 1           | 1           | 12          | Second      | Med         | N           | Tongzhou    | Centralized |\n",
       "| 3400        | 3           | 1           | 1           | 13          | Second      | Med         | Y           | Haidian     | Centralized |\n",
       "| 2700        | 2           | 1           | 1           |  9          | Master      | High        | N           | Chaoyang    | Self        |\n",
       "| 2390        | 2           | 1           | 1           | 14          | Master      | High        | Y           | Tongzhou    | Centralized |\n",
       "| 2840        | 2           | 1           | 1           | 13          | Master      | Med         | Y           | Shijingshan | Centralized |\n",
       "| 2840        | 2           | 1           | 1           | 12          | Master      | High        | N           | Tongzhou    | Centralized |\n",
       "| 3620        | 2           | 1           | 1           | 13          | Master      | Low         | Y           | Chaoyang    | Centralized |\n",
       "| 3170        | 3           | 1           | 1           | 14          | Second      | High        | Y           | Chaoyang    | Centralized |\n",
       "| 2500        | 4           | 1           | 1           | 15          | Second      | High        | Y           | Daxing      | Centralized |\n",
       "| 2740        | 3           | 1           | 1           | 13          | Second      | Med         | Y           | Fengtai     | Centralized |\n",
       "| 2070        | 2           | 1           | 1           | 11          | Master      | Med         | Y           | Shunyi      | Centralized |\n",
       "| 2930        | 3           | 1           | 1           | 11          | Second      | Med         | Y           | Chaoyang    | Centralized |\n",
       "| 2490        | 2           | 1           | 1           | 13          | Master      | Med         | Y           | Tongzhou    | Centralized |\n",
       "| ... | ... | ... | ... | ... | ... | ... | ... | ... | ... |\n",
       "| 4560        | 2           | 1           | 1           | 18          | Master      | Med         | Y           | Xicheng     | Centralized |\n",
       "| 2390        | 3           | 1           | 1           | 24          | Master      | Low         | Y           | Tongzhou    | Centralized |\n",
       "| 2450        | 4           | 1           | 1           | 16          | Master      | Med         | Y           | Chaoyang    | Centralized |\n",
       "| 2430        | 2           | 1           | 1           | 13          | Master      | Med         | N           | Tongzhou    | Centralized |\n",
       "| 2190        | 2           | 1           | 1           |  9          | Second      | Med         | N           | Tongzhou    | Centralized |\n",
       "| 2900        | 4           | 1           | 2           | 15          | Second      | Med         | Y           | Fengtai     | Centralized |\n",
       "| 2690        | 3           | 1           | 1           | 12          | Second      | Med         | Y           | Fengtai     | Centralized |\n",
       "| 2830        | 3           | 1           | 1           | 14          | Master      | Med         | Y           | Fengtai     | Centralized |\n",
       "| 2530        | 3           | 1           | 1           | 13          | Second      | High        | Y           | Daxing      | Centralized |\n",
       "| 1570        | 4           | 1           | 1           | 10          | Second      | Low         | Y           | Fangshan    | Centralized |\n",
       "| 1690        | 3           | 1           | 1           | 16          | Master      | Med         | Y           | Fangshan    | Self        |\n",
       "| 2790        | 3           | 1           | 1           | 18          | Master      | Med         | Y           | Tongzhou    | Self        |\n",
       "| 3930        | 3           | 1           | 1           | 10          | Second      | Med         | Y           | Chaoyang    | Centralized |\n",
       "| 3530        | 3           | 1           | 1           |  8          | Second      | Med         | Y           | Haidian     | Centralized |\n",
       "| 3190        | 2           | 1           | 1           |  9          | Second      | High        | Y           | Chaoyang    | Centralized |\n",
       "| 3360        | 3           | 1           | 1           | 21          | Master      | High        | Y           | Changping   | Centralized |\n",
       "| 2330        | 3           | 1           | 1           | 14          | Master      | High        | Y           | Chaoyang    | Self        |\n",
       "| 2180        | 4           | 1           | 1           |  9          | Second      | High        | N           | Chaoyang    | Self        |\n",
       "| 1850        | 4           | 1           | 1           | 11          | Master      | Low         | N           | Tongzhou    | Centralized |\n",
       "| 2490        | 3           | 1           | 1           |  9          | Master      | Low         | Y           | Fengtai     | Centralized |\n",
       "| 2560        | 5           | 1           | 2           |  8          | Second      | Med         | Y           | Fengtai     | Centralized |\n",
       "| 2830        | 4           | 1           | 1           | 19          | Master      | Low         | Y           | Shunyi      | Centralized |\n",
       "| 3200        | 2           | 1           | 1           | 21          | Master      | Med         | Y           | Shijingshan | Centralized |\n",
       "| 2560        | 3           | 1           | 1           | 12          | Second      | Low         | N           | Chaoyang    | Self        |\n",
       "| 2830        | 5           | 1           | 1           |  8          | Second      | High        | Y           | Chaoyang    | Centralized |\n",
       "| 3340        | 4           | 1           | 1           |  8          | Second      | High        | Y           | Xicheng     | Centralized |\n",
       "| 2790        | 3           | 1           | 1           | 18          | Master      | Low         | Y           | Chaoyang    | Centralized |\n",
       "| 2690        | 2           | 1           | 1           | 10          | Second      | Med         | Y           | Changping   | Centralized |\n",
       "| 2230        | 2           | 1           | 1           | 12          | Second      | Med         | Y           | Tongzhou    | Centralized |\n",
       "| 2390        | 2           | 1           | 1           | 14          | Master      | Med         | Y           | Tongzhou    | Centralized |\n",
       "\n"
      ],
      "text/plain": [
       "     rent bedroom livingroom bathroom area room   floor_grp subway region     \n",
       "1    2730 2       1          1        12   Master High      Y      Tongzhou   \n",
       "2    2740 3       1          1         9   Second Low       Y      Changping  \n",
       "3    2810 3       1          1        14   Master Low       Y      Fengtai    \n",
       "4    2650 4       1          1         8   Second Low       Y      Fengtai    \n",
       "5    2670 4       1          1        13   Master High      N      Fengtai    \n",
       "6    2530 3       1          1        12   Second High      Y      Shunyi     \n",
       "7    2000 2       1          1        10   Second High      Y      Daxing     \n",
       "8    2780 4       1          1        13   Master Med       Y      Chaoyang   \n",
       "9    2790 4       1          1        10   Second Low       Y      Changping  \n",
       "10   2640 4       1          1        13   Master Med       Y      Changping  \n",
       "11   2910 4       1          1        18   Master Low       Y      Changping  \n",
       "12   2740 2       1          1        10   Second High      Y      Haidian    \n",
       "13   2540 3       1          1        12   Master Med       Y      Changping  \n",
       "14   2740 3       1          1        11   Second Med       Y      Chaoyang   \n",
       "15   2340 3       1          1        11   Master Low       Y      Fengtai    \n",
       "16   2800 5       1          1        16   Second Low       Y      Chaoyang   \n",
       "17   2500 2       1          1         9   Second Med       Y      Tongzhou   \n",
       "18   2500 2       1          1        12   Second Med       N      Tongzhou   \n",
       "19   3400 3       1          1        13   Second Med       Y      Haidian    \n",
       "20   2700 2       1          1         9   Master High      N      Chaoyang   \n",
       "21   2390 2       1          1        14   Master High      Y      Tongzhou   \n",
       "22   2840 2       1          1        13   Master Med       Y      Shijingshan\n",
       "23   2840 2       1          1        12   Master High      N      Tongzhou   \n",
       "24   3620 2       1          1        13   Master Low       Y      Chaoyang   \n",
       "25   3170 3       1          1        14   Second High      Y      Chaoyang   \n",
       "26   2500 4       1          1        15   Second High      Y      Daxing     \n",
       "27   2740 3       1          1        13   Second Med       Y      Fengtai    \n",
       "28   2070 2       1          1        11   Master Med       Y      Shunyi     \n",
       "29   2930 3       1          1        11   Second Med       Y      Chaoyang   \n",
       "30   2490 2       1          1        13   Master Med       Y      Tongzhou   \n",
       "...  ...  ...     ...        ...      ...  ...    ...       ...    ...        \n",
       "5120 4560 2       1          1        18   Master Med       Y      Xicheng    \n",
       "5121 2390 3       1          1        24   Master Low       Y      Tongzhou   \n",
       "5122 2450 4       1          1        16   Master Med       Y      Chaoyang   \n",
       "5123 2430 2       1          1        13   Master Med       N      Tongzhou   \n",
       "5124 2190 2       1          1         9   Second Med       N      Tongzhou   \n",
       "5125 2900 4       1          2        15   Second Med       Y      Fengtai    \n",
       "5126 2690 3       1          1        12   Second Med       Y      Fengtai    \n",
       "5127 2830 3       1          1        14   Master Med       Y      Fengtai    \n",
       "5128 2530 3       1          1        13   Second High      Y      Daxing     \n",
       "5129 1570 4       1          1        10   Second Low       Y      Fangshan   \n",
       "5130 1690 3       1          1        16   Master Med       Y      Fangshan   \n",
       "5131 2790 3       1          1        18   Master Med       Y      Tongzhou   \n",
       "5132 3930 3       1          1        10   Second Med       Y      Chaoyang   \n",
       "5133 3530 3       1          1         8   Second Med       Y      Haidian    \n",
       "5134 3190 2       1          1         9   Second High      Y      Chaoyang   \n",
       "5135 3360 3       1          1        21   Master High      Y      Changping  \n",
       "5136 2330 3       1          1        14   Master High      Y      Chaoyang   \n",
       "5137 2180 4       1          1         9   Second High      N      Chaoyang   \n",
       "5138 1850 4       1          1        11   Master Low       N      Tongzhou   \n",
       "5139 2490 3       1          1         9   Master Low       Y      Fengtai    \n",
       "5140 2560 5       1          2         8   Second Med       Y      Fengtai    \n",
       "5141 2830 4       1          1        19   Master Low       Y      Shunyi     \n",
       "5142 3200 2       1          1        21   Master Med       Y      Shijingshan\n",
       "5143 2560 3       1          1        12   Second Low       N      Chaoyang   \n",
       "5144 2830 5       1          1         8   Second High      Y      Chaoyang   \n",
       "5145 3340 4       1          1         8   Second High      Y      Xicheng    \n",
       "5146 2790 3       1          1        18   Master Low       Y      Chaoyang   \n",
       "5147 2690 2       1          1        10   Second Med       Y      Changping  \n",
       "5148 2230 2       1          1        12   Second Med       Y      Tongzhou   \n",
       "5149 2390 2       1          1        14   Master Med       Y      Tongzhou   \n",
       "     heating    \n",
       "1    Centralized\n",
       "2    Centralized\n",
       "3    Centralized\n",
       "4    Centralized\n",
       "5    Centralized\n",
       "6    Centralized\n",
       "7    Centralized\n",
       "8    Centralized\n",
       "9    Centralized\n",
       "10   Centralized\n",
       "11   Centralized\n",
       "12   Centralized\n",
       "13   Centralized\n",
       "14   Centralized\n",
       "15   Centralized\n",
       "16   Centralized\n",
       "17   Centralized\n",
       "18   Centralized\n",
       "19   Centralized\n",
       "20   Self       \n",
       "21   Centralized\n",
       "22   Centralized\n",
       "23   Centralized\n",
       "24   Centralized\n",
       "25   Centralized\n",
       "26   Centralized\n",
       "27   Centralized\n",
       "28   Centralized\n",
       "29   Centralized\n",
       "30   Centralized\n",
       "...  ...        \n",
       "5120 Centralized\n",
       "5121 Centralized\n",
       "5122 Centralized\n",
       "5123 Centralized\n",
       "5124 Centralized\n",
       "5125 Centralized\n",
       "5126 Centralized\n",
       "5127 Centralized\n",
       "5128 Centralized\n",
       "5129 Centralized\n",
       "5130 Self       \n",
       "5131 Self       \n",
       "5132 Centralized\n",
       "5133 Centralized\n",
       "5134 Centralized\n",
       "5135 Centralized\n",
       "5136 Self       \n",
       "5137 Self       \n",
       "5138 Centralized\n",
       "5139 Centralized\n",
       "5140 Centralized\n",
       "5141 Centralized\n",
       "5142 Centralized\n",
       "5143 Self       \n",
       "5144 Centralized\n",
       "5145 Centralized\n",
       "5146 Centralized\n",
       "5147 Centralized\n",
       "5148 Centralized\n",
       "5149 Centralized"
      ]
     },
     "metadata": {},
     "output_type": "display_data"
    }
   ],
   "source": [
    "data<-read.csv('data.csv')\n",
    "attach(data)\n",
    "data"
   ]
  },
  {
   "cell_type": "code",
   "execution_count": 3,
   "id": "e04a79aa-5f24-4983-a891-5d0df596a883",
   "metadata": {},
   "outputs": [
    {
     "data": {
      "text/plain": [
       "      rent         bedroom        livingroom      bathroom          area      \n",
       " Min.   :1150   Min.   :2.000   Min.   :1.00   Min.   :1.000   Min.   : 5.00  \n",
       " 1st Qu.:2240   1st Qu.:2.000   1st Qu.:1.00   1st Qu.:1.000   1st Qu.:10.00  \n",
       " Median :2690   Median :3.000   Median :1.00   Median :1.000   Median :12.00  \n",
       " Mean   :2798   Mean   :2.996   Mean   :1.01   Mean   :1.027   Mean   :12.85  \n",
       " 3rd Qu.:3230   3rd Qu.:4.000   3rd Qu.:1.00   3rd Qu.:1.000   3rd Qu.:15.00  \n",
       " Max.   :6460   Max.   :5.000   Max.   :2.00   Max.   :2.000   Max.   :30.00  \n",
       "                                                                              \n",
       "     room      floor_grp   subway         region            heating    \n",
       " Master:2289   High:1592   N: 815   Chaoyang :1317   Centralized:4197  \n",
       " Second:2860   Low :1679   Y:4334   Tongzhou : 819   Self       : 952  \n",
       "               Med :1878            Changping: 702                     \n",
       "                                    Fengtai  : 581                     \n",
       "                                    Haidian  : 424                     \n",
       "                                    Daxing   : 361                     \n",
       "                                    (Other)  : 945                     "
      ]
     },
     "metadata": {},
     "output_type": "display_data"
    }
   ],
   "source": [
    "summary(data)"
   ]
  },
  {
   "cell_type": "markdown",
   "id": "ec2a46f2",
   "metadata": {},
   "source": [
    "## 2. 绘制总体数据中月租金(rent)的直方图"
   ]
  },
  {
   "cell_type": "code",
   "execution_count": 4,
   "id": "9f0986b1",
   "metadata": {
    "scrolled": true
   },
   "outputs": [
    {
     "data": {
      "image/png": "[encoded data removed]",
      "text/plain": [
       "plot without title"
      ]
     },
     "metadata": {},
     "output_type": "display_data"
    }
   ],
   "source": [
    "(ggplot(data,aes(rent))+geom_histogram(binwidth=80,fill='black',aes(color=region)))"
   ]
  },
  {
   "cell_type": "markdown",
   "id": "dc34035b",
   "metadata": {},
   "source": [
    "从以上月租金直方图可以看出，月租金主要以正偏态分布(Positive Skew)，分布在1000-7000元/月不等，大部分集中在2000-4000元/月的区间。这也比较符合社会的分层结构，能够负担高额月租金的人并不会太多，大部分人能够接受3000元/月左右的月租金"
   ]
  },
  {
   "cell_type": "markdown",
   "id": "71839e29-e122-4164-acba-66709a435283",
   "metadata": {},
   "source": [
    "## 3. 计算不同城区(region)租房平均价格"
   ]
  },
  {
   "cell_type": "code",
   "execution_count": 5,
   "id": "83b00e6c-d084-4f83-979d-1686eb9d110a",
   "metadata": {},
   "outputs": [
    {
     "data": {
      "text/html": [
       "<table>\n",
       "<thead><tr><th scope=col>region</th><th scope=col>mean</th></tr></thead>\n",
       "<tbody>\n",
       "\t<tr><td>Xicheng    </td><td>3784.792   </td></tr>\n",
       "\t<tr><td>Haidian    </td><td>3490.920   </td></tr>\n",
       "\t<tr><td>Chaoyang   </td><td>3302.103   </td></tr>\n",
       "\t<tr><td>Dongcheng  </td><td>3262.872   </td></tr>\n",
       "\t<tr><td>Shijingshan</td><td>2819.845   </td></tr>\n",
       "\t<tr><td>Fengtai    </td><td>2734.286   </td></tr>\n",
       "\t<tr><td>Changping  </td><td>2693.376   </td></tr>\n",
       "\t<tr><td>Tongzhou   </td><td>2327.216   </td></tr>\n",
       "\t<tr><td>Daxing     </td><td>2241.136   </td></tr>\n",
       "\t<tr><td>Shunyi     </td><td>2111.497   </td></tr>\n",
       "\t<tr><td>Fangshan   </td><td>1751.257   </td></tr>\n",
       "</tbody>\n",
       "</table>\n"
      ],
      "text/latex": [
       "\\begin{tabular}{r|ll}\n",
       " region & mean\\\\\n",
       "\\hline\n",
       "\t Xicheng     & 3784.792   \\\\\n",
       "\t Haidian     & 3490.920   \\\\\n",
       "\t Chaoyang    & 3302.103   \\\\\n",
       "\t Dongcheng   & 3262.872   \\\\\n",
       "\t Shijingshan & 2819.845   \\\\\n",
       "\t Fengtai     & 2734.286   \\\\\n",
       "\t Changping   & 2693.376   \\\\\n",
       "\t Tongzhou    & 2327.216   \\\\\n",
       "\t Daxing      & 2241.136   \\\\\n",
       "\t Shunyi      & 2111.497   \\\\\n",
       "\t Fangshan    & 1751.257   \\\\\n",
       "\\end{tabular}\n"
      ],
      "text/markdown": [
       "\n",
       "| region | mean |\n",
       "|---|---|\n",
       "| Xicheng     | 3784.792    |\n",
       "| Haidian     | 3490.920    |\n",
       "| Chaoyang    | 3302.103    |\n",
       "| Dongcheng   | 3262.872    |\n",
       "| Shijingshan | 2819.845    |\n",
       "| Fengtai     | 2734.286    |\n",
       "| Changping   | 2693.376    |\n",
       "| Tongzhou    | 2327.216    |\n",
       "| Daxing      | 2241.136    |\n",
       "| Shunyi      | 2111.497    |\n",
       "| Fangshan    | 1751.257    |\n",
       "\n"
      ],
      "text/plain": [
       "   region      mean    \n",
       "1  Xicheng     3784.792\n",
       "2  Haidian     3490.920\n",
       "3  Chaoyang    3302.103\n",
       "4  Dongcheng   3262.872\n",
       "5  Shijingshan 2819.845\n",
       "6  Fengtai     2734.286\n",
       "7  Changping   2693.376\n",
       "8  Tongzhou    2327.216\n",
       "9  Daxing      2241.136\n",
       "10 Shunyi      2111.497\n",
       "11 Fangshan    1751.257"
      ]
     },
     "metadata": {},
     "output_type": "display_data"
    }
   ],
   "source": [
    "avgrent<-aggregate(rent,list(region),mean)\n",
    "colnames(avgrent)=c('region','mean')\n",
    "avgrent<-avgrent[order(avgrent[2],decreasing = T),]\n",
    "rownames(avgrent)<-c()\n",
    "avgrent"
   ]
  },
  {
   "cell_type": "markdown",
   "id": "a08a8124-3ee6-44f0-a1cd-23d7b2647a0d",
   "metadata": {},
   "source": [
    "我们可以看到，平均租金最高的八个城区依次是：西城区，海淀区，朝阳区，东城区，石景山区，丰台区，昌平区，通州区。"
   ]
  },
  {
   "cell_type": "code",
   "execution_count": 6,
   "id": "24a27615-58ea-4a58-a4c4-4dcfb1ec7bda",
   "metadata": {},
   "outputs": [
    {
     "data": {
      "image/png": "[encoded data removed]",
      "text/plain": [
       "plot without title"
      ]
     },
     "metadata": {},
     "output_type": "display_data"
    }
   ],
   "source": [
    "(ggplot(as.data.frame(avgrent[1:8,]),aes(x=reorder(region,mean[8:1]),y=mean))\n",
    "    +geom_bar(stat='identity',aes(color=mean,fill=region))\n",
    "    +labs(title='Bar plot of top 8 rent regions',x='region',y='rent'))"
   ]
  },
  {
   "cell_type": "markdown",
   "id": "0fa79803-df85-4767-b4f1-7d07cfea4b8b",
   "metadata": {},
   "source": [
    "大家平时所说的的北京城区一般是指新老城区的六个区，北京八成的教育、商业和医疗资源都集中在城六区（东城、西城、海淀、朝阳、石景山、丰台），尤其是东西两城和海淀区。因此，在这里的租房价格也非常昂贵。"
   ]
  },
  {
   "cell_type": "markdown",
   "id": "bfcef188-5609-4f11-a31d-a99edc184ee1",
   "metadata": {},
   "source": [
    "## 4. 绘制月租金(rent)-城区(region)分组箱线图"
   ]
  },
  {
   "cell_type": "code",
   "execution_count": 7,
   "id": "5b995d27-6612-44f4-aa46-fe99fe50aaa0",
   "metadata": {},
   "outputs": [
    {
     "data": {
      "image/png": "[encoded data removed]",
      "text/plain": [
       "plot without title"
      ]
     },
     "metadata": {},
     "output_type": "display_data"
    }
   ],
   "source": [
    "ggplot(data,aes(region,rent))+geom_boxplot(notch=T,varwidth=T,aes(fill=region))"
   ]
  },
  {
   "cell_type": "markdown",
   "id": "fd1557a4-ada0-449b-bd6d-e7c938d6b35d",
   "metadata": {},
   "source": [
    "房山区，东城区，大兴区，顺义区，丰台区，通州区的月租金浮动比较小，说明这些区域的租房市场上房屋类型比较相似；而朝阳区，昌平区，大兴区，通州区，丰台区有较多房屋月租金处于异常(outliers)边界之外，说明这些区域有不少高端房型。"
   ]
  },
  {
   "cell_type": "markdown",
   "id": "534f4339-1c91-4dfd-b24f-ea56122ca57c",
   "metadata": {},
   "source": [
    "## 5. 建立以月租金(rent)为因变量，其余为自变量的线性回归模型"
   ]
  },
  {
   "cell_type": "code",
   "execution_count": 8,
   "id": "3aae2b69-4507-4d87-a1e0-75434988dd71",
   "metadata": {},
   "outputs": [
    {
     "data": {
      "text/plain": [
       "\n",
       "Call:\n",
       "lm(formula = rent ~ bedroom + livingroom + bathroom + area + \n",
       "    room + floor_grp + subway + region + heating, data = data)\n",
       "\n",
       "Residuals:\n",
       "     Min       1Q   Median       3Q      Max \n",
       "-1617.48  -275.26   -23.21   248.40  2967.39 \n",
       "\n",
       "Coefficients:\n",
       "                     Estimate Std. Error t value Pr(>|t|)    \n",
       "(Intercept)        1593.22405   79.93979  19.930  < 2e-16 ***\n",
       "bedroom             -90.55187    8.73965 -10.361  < 2e-16 ***\n",
       "livingroom         -168.01859   71.84304  -2.339 0.019390 *  \n",
       "bathroom            182.10825   43.63344   4.174 3.05e-05 ***\n",
       "area                 76.69198    1.96317  39.065  < 2e-16 ***\n",
       "roomMaster            0.08443   16.57165   0.005 0.995935    \n",
       "floor_grpMed        -55.59610   15.29704  -3.634 0.000281 ***\n",
       "floor_grpHigh       -24.98532   15.95019  -1.566 0.117303    \n",
       "subwayY             280.44440   17.73655  15.812  < 2e-16 ***\n",
       "regionChangping      57.19973   34.07111   1.679 0.093245 .  \n",
       "regionChaoyang      631.69500   31.69727  19.929  < 2e-16 ***\n",
       "regionDaxing       -421.98157   37.42529 -11.275  < 2e-16 ***\n",
       "regionDongcheng     565.01670   55.05629  10.263  < 2e-16 ***\n",
       "regionFangshan     -811.82173   45.02264 -18.031  < 2e-16 ***\n",
       "regionFengtai       117.59678   34.57808   3.401 0.000677 ***\n",
       "regionHaidian       878.86347   36.51087  24.071  < 2e-16 ***\n",
       "regionShunyi       -450.95937   39.11271 -11.530  < 2e-16 ***\n",
       "regionTongzhou     -373.00568   32.65046 -11.424  < 2e-16 ***\n",
       "regionXicheng       938.86226   54.33181  17.280  < 2e-16 ***\n",
       "heatingCentralized  155.79086   17.13452   9.092  < 2e-16 ***\n",
       "---\n",
       "Signif. codes:  0 '***' 0.001 '**' 0.01 '*' 0.05 '.' 0.1 ' ' 1\n",
       "\n",
       "Residual standard error: 454.1 on 5129 degrees of freedom\n",
       "Multiple R-squared:  0.6466,\tAdjusted R-squared:  0.6453 \n",
       "F-statistic: 493.9 on 19 and 5129 DF,  p-value: < 2.2e-16\n"
      ]
     },
     "metadata": {},
     "output_type": "display_data"
    },
    {
     "data": {
      "image/png": "[encoded data removed]",
      "text/plain": [
       "Plot with title \"\""
      ]
     },
     "metadata": {},
     "output_type": "display_data"
    }
   ],
   "source": [
    "data$region=factor(region,levels=c('Shijingshan','Changping','Chaoyang','Daxing','Dongcheng','Fangshan','Fengtai','Haidian','Shunyi','Tongzhou','Xicheng'))\n",
    "data$room=factor(room,levels=c('Second','Master'))\n",
    "data$floor_grp=factor(floor_grp,levels=c('Low',\"Med\",\"High\"))\n",
    "data$heating=factor(heating,levels=c('Self','Centralized'))\n",
    "reg=lm(rent~bedroom+livingroom+bathroom+area+room+floor_grp+subway+region+heating,data=data)\n",
    "summary(reg)\n",
    "par(mfrow=c(2,2))\n",
    "plot(reg)"
   ]
  },
  {
   "cell_type": "markdown",
   "id": "15272091-3f8f-4a23-9cfd-30aa9d1d6d5e",
   "metadata": {},
   "source": [
    "    - 北京市房屋月租金分布有以下特点：\n",
    "        - 内部结构：\n",
    "            1. 房屋月租金随着房屋租赁面积增长显著上升\n",
    "            2. 卧室数量越多，房屋月租金越低；客厅数量越多，房屋月租金越低；而卫生间数量越多，房屋月租金越高。\n",
    "            3. 集中供暖的房屋月租金一般高于自供暖房屋\n",
    "        - 外部结构：\n",
    "            1. 低楼层房屋月租金较高，中楼层房屋月租金较低\n",
    "            2. 临近地铁会使房屋月租金升高\n",
    "            3. 一般按照：西城区，海淀区，朝阳区，东城区，丰台区，昌平区，石景山区，通州区，大兴区，顺义区，房山区的顺序房价依次递减。"
   ]
  },
  {
   "cell_type": "markdown",
   "id": "a273f745-f4f0-4df8-bbce-b9b41a6e5d24",
   "metadata": {},
   "source": [
    "## 6. 利用BIC准则进行变量选择"
   ]
  },
  {
   "cell_type": "code",
   "execution_count": 9,
   "id": "45208f90-1591-4eb1-8670-c1387cdccfeb",
   "metadata": {},
   "outputs": [
    {
     "name": "stdout",
     "output_type": "stream",
     "text": [
      "Start:  AIC=63156.53\n",
      "rent ~ bedroom + livingroom + bathroom + area + room + floor_grp + \n",
      "    subway + region + heating\n",
      "\n",
      "             Df  Sum of Sq        RSS   AIC\n",
      "- room        1          5 1057471174 63148\n",
      "- floor_grp   2    2744146 1060215315 63153\n",
      "- livingroom  1    1127668 1058598837 63153\n",
      "<none>                     1057471169 63157\n",
      "- bathroom    1    3591337 1061062505 63165\n",
      "- heating     1   17044180 1074515349 63230\n",
      "- bedroom     1   22133107 1079604276 63255\n",
      "- subway      1   51545511 1109016680 63393\n",
      "- area        1  314643281 1372114450 64489\n",
      "- region     10 1207778609 2265249778 66994\n",
      "\n",
      "Step:  AIC=63147.98\n",
      "rent ~ bedroom + livingroom + bathroom + area + floor_grp + subway + \n",
      "    region + heating\n",
      "\n",
      "             Df  Sum of Sq        RSS   AIC\n",
      "- floor_grp   2    2745299 1060216474 63144\n",
      "- livingroom  1    1128021 1058599195 63145\n",
      "<none>                     1057471174 63148\n",
      "- bathroom    1    3592809 1061063984 63157\n",
      "- heating     1   17046022 1074517196 63222\n",
      "- bedroom     1   23061630 1080532804 63251\n",
      "- subway      1   51638175 1109109349 63385\n",
      "- area        1  517214966 1574686140 65190\n",
      "- region     10 1212691747 2270162922 66996\n",
      "\n",
      "Step:  AIC=63144.24\n",
      "rent ~ bedroom + livingroom + bathroom + area + subway + region + \n",
      "    heating\n",
      "\n",
      "             Df  Sum of Sq        RSS   AIC\n",
      "- livingroom  1    1063637 1061280110 63141\n",
      "<none>                     1060216474 63144\n",
      "- bathroom    1    3455241 1063671715 63152\n",
      "- heating     1   16860612 1077077085 63217\n",
      "- bedroom     1   22753881 1082970354 63245\n",
      "- subway      1   51984442 1112200916 63382\n",
      "- area        1  516323261 1576539735 65179\n",
      "- region     10 1214792048 2275008521 66990\n",
      "\n",
      "Step:  AIC=63140.86\n",
      "rent ~ bedroom + bathroom + area + subway + region + heating\n",
      "\n",
      "           Df  Sum of Sq        RSS   AIC\n",
      "<none>                   1061280110 63141\n",
      "- bathroom  1    2526496 1063806606 63145\n",
      "- heating   1   16883060 1078163170 63214\n",
      "- bedroom   1   23676267 1084956377 63246\n",
      "- subway    1   51936754 1113216864 63378\n",
      "- area      1  515445086 1576725197 65171\n",
      "- region   10 1216820731 2278100841 66989\n"
     ]
    },
    {
     "data": {
      "text/plain": [
       "\n",
       "Call:\n",
       "lm(formula = rent ~ bedroom + bathroom + area + subway + region + \n",
       "    heating, data = data)\n",
       "\n",
       "Residuals:\n",
       "     Min       1Q   Median       3Q      Max \n",
       "-1611.79  -271.91   -25.92   248.37  2980.50 \n",
       "\n",
       "Coefficients:\n",
       "                   Estimate Std. Error t value Pr(>|t|)    \n",
       "(Intercept)        1440.449     59.027  24.403  < 2e-16 ***\n",
       "bedroom             -91.457      8.547 -10.701  < 2e-16 ***\n",
       "bathroom            141.751     40.550   3.496 0.000477 ***\n",
       "area                 76.527      1.533  49.930  < 2e-16 ***\n",
       "subwayY             281.206     17.743  15.849  < 2e-16 ***\n",
       "regionChangping      58.700     34.104   1.721 0.085276 .  \n",
       "regionChaoyang      634.860     31.729  20.009  < 2e-16 ***\n",
       "regionDaxing       -418.866     37.422 -11.193  < 2e-16 ***\n",
       "regionDongcheng     565.767     55.124  10.264  < 2e-16 ***\n",
       "regionFangshan     -808.478     45.011 -17.962  < 2e-16 ***\n",
       "regionFengtai       119.461     34.606   3.452 0.000561 ***\n",
       "regionHaidian       880.960     36.546  24.106  < 2e-16 ***\n",
       "regionShunyi       -456.412     39.038 -11.691  < 2e-16 ***\n",
       "regionTongzhou     -372.159     32.685 -11.386  < 2e-16 ***\n",
       "regionXicheng       935.072     54.387  17.193  < 2e-16 ***\n",
       "heatingCentralized  154.970     17.150   9.036  < 2e-16 ***\n",
       "---\n",
       "Signif. codes:  0 '***' 0.001 '**' 0.01 '*' 0.05 '.' 0.1 ' ' 1\n",
       "\n",
       "Residual standard error: 454.7 on 5133 degrees of freedom\n",
       "Multiple R-squared:  0.6453,\tAdjusted R-squared:  0.6443 \n",
       "F-statistic: 622.7 on 15 and 5133 DF,  p-value: < 2.2e-16\n"
      ]
     },
     "metadata": {},
     "output_type": "display_data"
    }
   ],
   "source": [
    "summary(step(reg,steps=1000,k=log(nrow(data))))"
   ]
  },
  {
   "cell_type": "markdown",
   "id": "8de0b9dd-f582-472d-9e22-95f696b911f9",
   "metadata": {},
   "source": [
    "BIC准则:$BIC=-2\\mathcal{L}(\\beta)+(\\log(N))d$\n",
    "\n",
    "通过BIC准则进行变量选择，我们发现，卧室数量、厕所数量、房间大小、有无地铁、供热方式以及所处区域对房屋月租金有显著的影响。相比之下，主次卧、楼层以及厅数对房屋月租金影响不大。\n",
    "\n",
    "个人观点看来，出行的便利性（地铁），良好的地理位置（所处区域）和生活的舒适性（房间大小，厕所数量和供热方式）是人们对房屋价值的主要考量方式，至于房屋位于第几层，卧室是主卧还是次卧，以及房屋中有几个客厅，并不是评判房屋价值的重要因素。"
   ]
  },
  {
   "cell_type": "markdown",
   "id": "7693d1b8-99c9-416f-bda2-8b0f26223175",
   "metadata": {},
   "source": [
    "## 7. 五折交叉验证"
   ]
  },
  {
   "cell_type": "code",
   "execution_count": 55,
   "id": "49fb507b-a35c-44dc-9152-32925933dd8f",
   "metadata": {},
   "outputs": [
    {
     "data": {
      "text/html": [
       "'rmse=455.151286398223'"
      ],
      "text/latex": [
       "'rmse=455.151286398223'"
      ],
      "text/markdown": [
       "'rmse=455.151286398223'"
      ],
      "text/plain": [
       "[1] \"rmse=455.151286398223\""
      ]
     },
     "metadata": {},
     "output_type": "display_data"
    },
    {
     "data": {
      "image/png": "[encoded data removed]",
      "text/plain": [
       "plot without title"
      ]
     },
     "metadata": {},
     "output_type": "display_data"
    }
   ],
   "source": [
    "pred.cv<-function(data,k)\n",
    "    {\n",
    "    ind<-sample(1:k,nrow(data),replace=T)\n",
    "    pred_cv<-c()\n",
    "    for (i in 1:k)\n",
    "    {\n",
    "        ii<-which(ind==i)\n",
    "        reg<-lm(rent~bedroom+bathroom+area+subway+region+heating,data=data[-ii,])\n",
    "        pred_cv[ii]<-predict(reg,data[ii,])\n",
    "    }\n",
    "    rmse<-sqrt(mean((pred_cv-data$rent)^2))\n",
    "    return(list(pred_cv=pred_cv,rmse=rmse))\n",
    "}\n",
    "pred_cv<-pred.cv(data,5)\n",
    "data$pred_rent<-pred_cv$pred_cv\n",
    "paste0('rmse=',pred_cv$rmse)\n",
    "ggplot(data)+geom_point(aes(x=data$pred_rent,y=rent,color=region))+labs(x='pred_rent')"
   ]
  },
  {
   "cell_type": "markdown",
   "id": "f6913301-a1cd-4163-bbac-2d10929fc8fe",
   "metadata": {},
   "source": [
    "通过五折交叉验证后，我们发现实际值和预测值的差距还是相当明显的，RMSE的数值体现了模型还有较大改进空间。"
   ]
  },
  {
   "cell_type": "code",
   "execution_count": 52,
   "id": "11a640c5-9382-4808-bd9c-ff1ea2eaf516",
   "metadata": {},
   "outputs": [],
   "source": [
    "detach(data)"
   ]
  }
 ],
 "metadata": {
  "kernelspec": {
   "display_name": "R",
   "language": "R",
   "name": "ir"
  },
  "language_info": {
   "codemirror_mode": "r",
   "file_extension": ".r",
   "mimetype": "text/x-r-source",
   "name": "R",
   "pygments_lexer": "r",
   "version": "3.6.1"
  }
 },
 "nbformat": 4,
 "nbformat_minor": 5
}
